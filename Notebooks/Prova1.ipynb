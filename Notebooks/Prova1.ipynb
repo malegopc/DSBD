{
  "nbformat": 4,
  "nbformat_minor": 0,
  "metadata": {
    "colab": {
      "provenance": []
    },
    "kernelspec": {
      "name": "python3",
      "display_name": "Python 3"
    },
    "language_info": {
      "name": "python"
    }
  },
  "cells": [
    {
      "cell_type": "markdown",
      "metadata": {
        "id": "xpAuMVCwfWs8"
      },
      "source": [
        "\n",
        "---\n",
        "\n",
        "---\n",
        "# PROVA 1 - 20 PONTOS - DSBD\n",
        "\n",
        "Neste notebook constam as 5 questões da Prova 1 da disciplina de *Data Science e Big Data*.\n",
        "\n",
        "* As questões devem ser respondidas nos espaços já alocados para suas respectivas respostas.\n",
        "\n",
        "* Os materiais da disciplina podem ser consultados.\n",
        "\n",
        "* **Não é permitido qualquer tipo de interação com outros(as) colegas de sala durante a realização da prova.**\n",
        "\n",
        "* **Você deve submeter o notebook respondido/executado no link da tarefa do Canvas até às 20:40h** *(não esqueça que o tempo de duração da prova é também um critério de avaliação!).*\n",
        "\n",
        "*Boa Prova!*\n",
        "\n",
        "---\n",
        "\n",
        "---\n",
        "\n",
        "\n",
        "\n",
        "\n",
        "\n"
      ]
    },
    {
      "cell_type": "markdown",
      "source": [
        "\n",
        "\n",
        "---\n",
        "\n",
        "#**Questão 1**  *(3 pontos)*\n",
        "\n",
        "---\n",
        "\n"
      ],
      "metadata": {
        "id": "vqfeymMWVOch"
      }
    },
    {
      "cell_type": "markdown",
      "source": [
        "###**Assinale com V (*Verdadeiro*) ou F (*Falso*) cada uma das seguintes afirmações:**\n",
        "\n",
        "\n",
        "\n",
        "( ) A ciência de dados é um campo interdisciplinar que engloba estatística, análise de dados, computação e seus métodos relacionados para entender e analisar fenômenos reais que envolvem dados.\n",
        "\n",
        "( ) As características do Big Data podem ser descritas por meio de 5 V´s: volume, variedade, velocidade, valor e veracidade.\n",
        "\n",
        "( ) A maior parte do Big Data é de natureza estruturada ou semiestruturada.\n",
        "\n",
        "( ) O Big Data não pode ser analisado com eficiência usando apenas gerenciadores de bancos de dados tradicionais devido ao seu volume e variedade de dados.\n",
        "\n",
        "( ) Dentre as etapas do processo de Ciência de Dados podemos citar a Análise Exploratória de dados, que aplica principalmente estatística inferencial e técnicas de visualização de dados.\n",
        "\n",
        "( ) O Engenheiro de Dados usa suas habilidades ​​em matemática, estatística, ciência da computação e programação para limpar, tratar e organizar os dados para descobrir padrões “escondidos” neles; e o Cientista de Dados é responsável ​​por projetar, construir, integrar e manter dados de várias fontes.\n",
        "\n"
      ],
      "metadata": {
        "id": "NG-DKDK2VVr-"
      }
    },
    {
      "cell_type": "markdown",
      "source": [
        "---\n",
        "\n",
        "#**Questão 2**  *(4 pontos)*\n",
        "\n",
        "---"
      ],
      "metadata": {
        "id": "ee71PMFVXZQP"
      }
    },
    {
      "cell_type": "markdown",
      "source": [
        "Nesta questão você deverá utilizar o conjunto de dados [Churn_Modelling.csv](https://raw.githubusercontent.com/malegopc/DSBD/main/Datasets/Churn/Churn_Modelling.csv) armazenado no [github da disciplina](https://github.com/malegopc/DSBD).\n",
        "\n",
        "O conjunto de dados possui as seguintes características:\n",
        "\n",
        "Número de Instâncias: 10.000\n",
        "\n",
        "Número de Atributos: 13 atributos (incluindo o target)\n",
        "\n",
        "Informações dos Atributos:\n",
        "\n",
        "* CustomerId (identificação do cliente)\n",
        "* Surname (sobrenome)\n",
        "* CreditScore (pontuação de crédito)\n",
        "* Geography (nacionalidade)\n",
        "* Gender (sexo)\n",
        "* Age (idade)\n",
        "* Tenure (propriedades)\n",
        "* Balance (saldo)\n",
        "* NumOfProducts (número de produtos)\n",
        "* HasCrCard (cartão de crédito)\n",
        "* IsActiveMember (membro ativo)\n",
        "* EstimatedSalary (salário estimado)\n",
        "* Exited (variável de destino - target)"
      ],
      "metadata": {
        "id": "aDBl4AlaZiR7"
      }
    },
    {
      "cell_type": "markdown",
      "source": [
        "#Implementar os itens abaixo:\n",
        "\n"
      ],
      "metadata": {
        "id": "Tn-Equpnb8g3"
      }
    },
    {
      "cell_type": "markdown",
      "source": [
        "a-) Obter um resumo da estatística descritiva dos dados utilizando um único comando (função)."
      ],
      "metadata": {
        "id": "KWQYPnTKcJPo"
      }
    },
    {
      "cell_type": "code",
      "source": [],
      "metadata": {
        "id": "zC5cmh_XcNa3"
      },
      "execution_count": null,
      "outputs": []
    },
    {
      "cell_type": "markdown",
      "source": [
        "b-) Calcule a média das idades dos clientes."
      ],
      "metadata": {
        "id": "LfZfReQScim2"
      }
    },
    {
      "cell_type": "code",
      "source": [],
      "metadata": {
        "id": "wXbGK7Jkc6gf"
      },
      "execution_count": null,
      "outputs": []
    },
    {
      "cell_type": "markdown",
      "source": [
        "c-) Calcule a mediana da variável \"Tenure\" (propriedades)."
      ],
      "metadata": {
        "id": "LlylHXbic7QJ"
      }
    },
    {
      "cell_type": "code",
      "source": [],
      "metadata": {
        "id": "KDP8SueXdJmd"
      },
      "execution_count": null,
      "outputs": []
    },
    {
      "cell_type": "markdown",
      "source": [
        "d-)  Calcule o 3o. quartil da variável \"NumOfProducts\" (número de produtos) e explique o que esse resultado quer dizer."
      ],
      "metadata": {
        "id": "LM2oVYiwcYwh"
      }
    },
    {
      "cell_type": "code",
      "source": [],
      "metadata": {
        "id": "k724V-9reL7m"
      },
      "execution_count": null,
      "outputs": []
    },
    {
      "cell_type": "markdown",
      "source": [
        "e-) Calcule o percentil 10 da variável \"Tenure\" (propriedades) e explique o que esse resultado quer dizer."
      ],
      "metadata": {
        "id": "GSag02IxeOYe"
      }
    },
    {
      "cell_type": "code",
      "source": [],
      "metadata": {
        "id": "VjSZ7fz8fvAM"
      },
      "execution_count": null,
      "outputs": []
    },
    {
      "cell_type": "markdown",
      "source": [
        "f-) Qual das duas variáveis apresenta maior dispersão (variabilidade): \"Tenure\" (propriedades) ou \"EstimatedSalary\" (salário estimado). Justifique a sua resposta."
      ],
      "metadata": {
        "id": "4-lJsKrYfvjx"
      }
    },
    {
      "cell_type": "code",
      "source": [],
      "metadata": {
        "id": "jPNnG6IJgkDP"
      },
      "execution_count": null,
      "outputs": []
    },
    {
      "cell_type": "markdown",
      "source": [
        "---\n",
        "\n",
        "#**Questão 3** *(5 pontos)*\n",
        "\n",
        "---"
      ],
      "metadata": {
        "id": "1CIP9PQJgzR2"
      }
    },
    {
      "cell_type": "markdown",
      "source": [
        "Nesta questão você deve continuar utilizando o conjunto de dados [Churn_Modelling.csv](https://raw.githubusercontent.com/malegopc/DSBD/main/Datasets/Churn/Churn_Modelling.csv) da questão anterior.\n"
      ],
      "metadata": {
        "id": "t0Abpu-Kg1Dk"
      }
    },
    {
      "cell_type": "markdown",
      "source": [
        "#Implementar os itens abaixo:"
      ],
      "metadata": {
        "id": "IlTg-xPVhD3N"
      }
    },
    {
      "cell_type": "markdown",
      "source": [
        "a-) Mostrar os histogramas das variáveis: \"Geography\", \"Gender\" e\t\"Age\" num mesmo quadro de plotagem (usando subplots)."
      ],
      "metadata": {
        "id": "-kqEJjhygv5t"
      }
    },
    {
      "cell_type": "code",
      "source": [],
      "metadata": {
        "id": "OgSe9Ca3i_5a"
      },
      "execution_count": null,
      "outputs": []
    },
    {
      "cell_type": "markdown",
      "source": [
        "b-) Mostrar os gráficos de setores (pie chart) de cada um das variáveis: \"HasCrCard\", \"IsActiveMember\" e \"Geography\" num mesmo quadro de plotagem (usando subplots).\n"
      ],
      "metadata": {
        "id": "UjRSP4hSjHBe"
      }
    },
    {
      "cell_type": "code",
      "source": [],
      "metadata": {
        "id": "NSyNeXDfjkjm"
      },
      "execution_count": null,
      "outputs": []
    },
    {
      "cell_type": "markdown",
      "source": [
        "c-) Mostre lado a lado os boxplots da variável \"CreditScore\" (pontuação de crédito) discriminados por nacionalidade (\"Geography\")."
      ],
      "metadata": {
        "id": "r_56jAuul3Np"
      }
    },
    {
      "cell_type": "code",
      "source": [],
      "metadata": {
        "id": "xmhhcYwSmItl"
      },
      "execution_count": null,
      "outputs": []
    },
    {
      "cell_type": "markdown",
      "source": [
        "d-) Análise comparativamente os boxplots do item anterior e comente as informações que podem ser exploradas. Quais conclusões podemos obter?\n",
        "\n",
        "Resposta: "
      ],
      "metadata": {
        "id": "6KAOR_eGmKO3"
      }
    },
    {
      "cell_type": "markdown",
      "source": [
        "e-) Verifique existe alguma correlação entre as variáveis \"EstimatedSalary\" (salário estimado) e \"NumOfProducts\" (número de produtos). Justifique a sua resposta."
      ],
      "metadata": {
        "id": "g69G4z0JmwXv"
      }
    },
    {
      "cell_type": "code",
      "source": [],
      "metadata": {
        "id": "n-3MpMYXqxc0"
      },
      "execution_count": null,
      "outputs": []
    },
    {
      "cell_type": "markdown",
      "source": [
        "---\n",
        "\n",
        "#**Questão 4** *(3 pontos)*\n",
        "\n",
        "---"
      ],
      "metadata": {
        "id": "0MNRJFoi639Y"
      }
    },
    {
      "cell_type": "markdown",
      "source": [
        "A figura a seguir mostra o histograma de uma amostra composta de 20.000 servidores. O eixo x apresenta\n",
        "a quantidade de requisições simultâneas desses servidores. Por exemplo, o valor 168 indica que há\n",
        "1.850 servidores com capacidade de atender 168 requisições simultâneas.  (Adaptado ENADE 2021)\n",
        "\n",
        "![image.png](data:image/png;base64,iVBORw0KGgoAAAANSUhEUgAAA2IAAAFqCAYAAAB4Y+nWAAAgAElEQVR4nOzdeVxU9f7H8dcMwwwwuIG4gFAuKO5oYW7lLZfKJbXMpbLMXDJtEZfq6s1bt26b95e22KalZqmlZmoumWvmUrlVbriAG4KIgDDA4Cy/P0C0cmFSBtT38/Hoked8z/d7PmcePGDe8/2eMwa32+1GREREREREvMZY0gWIiIiIiIhcbxTEREREREREvExBTERERERExMsUxERERERERLxMQUxERERERMTLFMRERERERES8TEFMRERERETEy0wlXcBZNvYtm86MBRvZd9JE1Zj7GDykI7X881udyeuZ9u5nrN2XiV94c+4fNpC2EZZLtDlJXj+VSdPXsD/Tj/DmPRkyqB0F3UREREREREqEobR8obMr5SuefWItIR1aEOH+na/em0tmzxksHBODxb6dCT0Gs775C4y5twoHvxjHiz+35uNvnqUpF26rv/steg1aR/Nx/6Jb5YPMGjeOn2/9hHnPNkVZTERERKR02rplK3a7vaTLkOtctWrVqBZerdjGLzVB7I/s/Dj2Dgbu7c/ymY9Rce3ztBvrw2vfv0wrPyBjAU+2eZPgSd/zfN6/L9D2LbcvuJtxptdZ9nJrLMCpb4Zyx5vBvLPiJVooiYmIiIiUSjdHNyE9PZ0qVaqUdCnXHbvdTl5eHmXKlCnpUkpUUlISTwwbRuzIEcV2jlK0NPFcOaSkZGGtUpXyRieJu/aQEdGd2uaCZmsktcJS2XognSOZF2jbt5ddcemEd6uDb0FTQO1IwlK3EJ/pooXl0rfHJSQkcOTw4eK4QBEREREpEBBgpelNTc9uW628/d67tGzVqgSruj59OXs28+d9zRezZ5V0KSVqVGzxBbAzSmUQs/86lWkbqtLjk9ux4iQjIxOsAVjPZCdjGQKtkG3LvHBb1nEyToHVai18IokxMJAAsrHZ3FDx0nX8tGkTixYsLIYrFBEREZEzQsNC/xDERK4HpS6IuZK/46XYz/EbNJmnbvYHHJhMJtwOJ84zB7lduJwGzGbzhdssFkwmNw6Ho3Bst9uF0+CL2ddQpFp69upFz169ruDViYiIiIiIlLLH17tS1/HGgH+xo8143nmiMfkPTDRSqVIQhhPJJJ1JW85jJKUGUDUshCoXbIukUpCBE8eTOduURKo1lNCgUnXZIiIiIiJynSk9icS2hUmDh/N9jdG8MaQBhrRU0tKzyMNIUEwMNRLWsOpA/uyWbfNS1tqacdtNlgu3xVQmplkNElavIN4BYGPLkjXYYtrQ1HzhMkRERERERIpbqVmamLdjEV9vPcHBX0bS8ZuCnaZGDF8yj6F1+jH64bWM7NudDfUDSdxxkiZjPuLuYCOmChdqM2Ps9xx918bSr9sG6pU5ys7UJjz/cUeCS0/8FBEREZFiYk/4gW/jKtKhQ10Cz9OenbyfE+YbiKhQat4Sy3Wk1PzUmZu9wIr9L1ygtTwtR81h+YNx7E1yEVyzDuHlfPKbjBdpK9+KEXNW0icujmRnRWpGhVPWxyuXIyIiIiJXgusEG6dPYdXJmnR8rAeNy/2xOWf3Aj6as4Pydwyib8vgs8u98nbz6ahx7HzwM7qed2A7P/y3F2+Hf8q3I+uT9v3rjF4Swcf/e7BYL0fyZe1eyPSFNloN601jfwAHu+b+H3N/z+Xc79Yylm3KmOGdL9Lv6lVqgtilGbGGRhEd6mGb0UpoVBPO201ERERESjdHPCumTWdOqg+/+DZi9pO1z76BdSUy//WXmbE1mwqGDvRpGcyZO1Ds21cR3+JFXrwnjAt9Du/GDbgBI5aQWtSPqlTcVyOuFH6e/G/+9eEaDmc2pfyjPWnsnx+fjcY/LlvL3bOMeYnkB7GL9LtaXUVBTERERESuTwE073gT2+Z/xfZBY7jJkr/XETeHr/a2oEvLjfx4ztG2fcuZufwwxsw05nxflQc61MIK4Epl25zpzN98kvK3dCfinKkXS4UqhFULBsCVtoOlcxfzc1wKdms4t9zbly4Ny5eihytcvRx7FzJ7RwPGvl+Xif1+OqfFRJ3uIxnbvWDTeYhpD82jTtcel+h39dLPk4iIiIiUcgYCW/egrX0xX63LKthn55eZ87Hd1ZtbrGe/msi5bzrDHnmLPZVb065lBba9+jCj5yYCeex8bwCDPj5M9duaEbjuP/xvdVbhMri8LZ/z30nfAy5SV33BNwfL0PCODrQov4U3+/+LxWlevuRrlKlOf8ZPHEKLShe/X8i+9TO+2NWUPn2iPOp3NdGMmIiIiIiUfpbm3NcpgMFffkfq7fcSnPEdM5eVp+tnjTB9dOagPLbNmsaBW//FpMf+gT8uGqb9yJ3zVkCXKL6ed5gWI6bxSKeycFc0poc68dVfTmQk5N5X+PDegs1/GPjxi1f5/UAenW/So7e9wpXKd5/MJ+fON+hc5dqdN1IQExEREZGrgC+NenQj/L6vWHi0M+1WzObnuj14vqaJHYXH5HJg/xFSto2l84b8t7nu7FTyIlrD6YMcOl6JujUC8g/1qUSVSr7nP1XWLua/O4m56+NIysjgRLo/9znPf6hcec79XzL9h8rcO+vW/CWl1ygFMRERERG5KvjU7Eq3hh8yd/ZiUlftp/mwTlQxck4Q88HXbKH6A+8y5+l6BQ/pMOJjMkHuN/gYT2O3uy5xFjsb3hzCa/t78vb7r9C4/Fb+c+eLxXhV8kfZbJw2i/03D2Zi3Ws7qly7c30iIiIicm0xhtKxR0uOfPovPrPdRc/b//Qse/xoGB1J4vofOOg2YzabMZuN4HaBuS71qyezeeNhHEBewgIWbMz6w6PS8+Vw+NAJKt90O03DysKx/RzM9MrVCeBKXsi0RQ7u7HsPodd4Urm2Y6aIiIiIXOV8MPn6YvIBMBLcvicdxq9j1309udkv/wiTjwmTyQfwoWbfMTy+8Sn6d1pPw5pWbEfiMXR8h8+GRtHr6e4sHvUwvTbVwJ1ehkZNIkg0FrwdNvni62sCytK6ewc+GDeEh7ZUITcvhJBQc8H55XK5jszkqb6T+C0ni5ScXA7ecxtT6g1gxeR+gJP9X83i54hefH5boAf9rk4Gt9v91w8CRERERERKyG2tWvPaG6/TslWrvzmCndQDe0hIM1A+vBbVK/kXLgPLS93P7sNOqtSpTaWLfCFwzvF97EsyUq1eDSpcR1MXX86ezfx5X/PF7FklXUqJGhU7gqqhocSOHFFs57iOfqxERERE5PpgIbhGI4LP02IOrkmj8zX8iX+lWjTU9ztLMbrGV16KiIiIiIiUPpoRExEREZFS5XReHh99+CHzv/66pEu57iTEx3Po4CFGjxxZ0qWUqG3btlE1NLRYz6EgJiIiIiKli8FAUIUgqlSpUtKVXHdOnjyJ2Wy+7l97Pz+/Yj+HgpiIiIiIlCq+vr706Hn/ZTysQ/6uL2fPJtuWTex1PiN2LPFYsZ9D94iJiIiIiIh4mYKYiIiIiIiIlymIiYiIiIiIeJnuERMRuU7NPJyHw53/75vL+1C3rE/JFiQiInIdURATEblO9d+STa4r/9/jG/gpiImIiHhR6QtiWbtZNHUhttbD6BXtf87uhXw8eQFbjtjwq9qEzoOG0LVuIADO5PVMe/cz1u7LxC+8OfcPG0jbCAvgJHn9VCZNX8P+TD/Cm/dkyKB2RFhK6NpERERERP4im+T9JzDfEEGFC7w7t584SJKrCjdUspCVdAR7UDWCzd6tUq6sUhTEXJz4aQov/vND1h7OpEn5R7k/2j//Jraslfx3wH9J6fsmYwaX5dBX/+a5x21U/u7fNGc77wyIZX3zFxjzQhUOfjGO0YNsfPzNs9Tf/TaDh6+j+bh/MbbyQWaNG8mQ7E+Y92xTlMVERERErgKuFNZPnczKw6fBaMK/fCh1Wt1F+6ZVruz7OVcaK14bydIbnuPNByM9KG890z/+nsMOMFnKEtqwLZ3vbEiwJ4sMctfyWs+JhE9dSGzDv749dyZMY8hjsznpPk3Ftt2ouOlHar77GQMjrp2VDFm7FzJ9oY1Ww3rTuHAu5tqeVCk9D+tw7GXhzB00GDeJQfX/+APoOPIrO0/WoV2v1kRFNqLt/bdzw8kjHM0F+4ZZzE1rx9MjOtK4blPuGTmQlkmLWLD5FBtnziG9/XCGd4wm6qauxA5sRfLC+Wyxl9A1ioiIiIhnHAms+uwLfjM1oHHD2lQx7GP2U525759LSHRewfMYLYTUakBUWBkPy1vBjC9+w9SgMXVCYcvEh+geu5AklyejuMGd/7/ztjpCaPvPj5jz9QTuKZ9LeP8x9LpWQpgrhZ8/GkqPB5/nvY8Xs8N29oWzb3+bwcMX439PLGNjO2FZNpIhE7ZwrbyVLz0zYqY6PPrWBHAm8OFbf2q68TZuqz6VKS99RePnGrJ9wtdk3jma28o4Sdy1h4yI7tQ+MzVrjaRWWCpb9+1lV1w64d3q4FvQFFA7krDULcRnumhhKT0ZVEREREQuxocq0XfTpZM/0IPe3ZvwZPcXeCXmZt7pHoIRG/uXf8FXK/eRFViTNj0fpH2kFcjj6LqZfLFkJ+l+N9Lmgf60ylvNwiPVuad9bQIAXCfYumg1uTfdQ1jVMMKCAgrPmpOwmi+/WsHuFAMhDdrTo+etRPidr7wqNL67Kx39oVPtU3Ts9yUrTnSij+8uls5dzM9xKdit4dxyb1+6NCyPEXClbmXetK/ZklaBmG7h52QwJ4fWfE181SbYl01jneF2hvS5gQqrZ/LKsoJxbgsj8GyVJKyazdyVuzhBCPU79OT+WyOumtVfjr0Lmb2jAWPfr8vEfj+d02IvmFR5neEdo7EQTezA77jjzflseaYpLa6WC7yI0hPELsavKU9PeY2UPk/TtYUL/0ZD+fTzuwgx5nE0IxOsAVjP5CpjGQKtkJ11nIxTYLVaC6f9jIGBBJCNzeaGipc+7by5c1m6eElxXZWISIk5FRDE6TajwCf/o6rp8xezZ/fiEq5KRK5XVUOr8uJ//lPk433COvNgh7cYtuxHsrp3IWX6Ezw6M4RHn7yLBgfn8vrDW8mc+x73pE1i6IiNtHy2P61zdxG/9wSty/7Ih88tJLDZu3QuB85D83h97Eru/PYuUj5/mU/qRXNX/bI4D3zOsAemYH7wae5rm8vmqaN4YMNovnzvXkIv8nm+j78/FgMYcJG66gu+ORjOnXc0wXfP57zePw6f796hs3Un7w8YwKIbh/HkHQ5WvTyeNbby9AUgj20zX2R8XDhBtZvTor6NpAuNU8FJ/Iwn6DvFTJ+ne3C7fTPTR/Zi47NzePvesFK09O3CTHX6M34iOBPeZ+K5Dc6j7L7GJ1WujiCW/StTn32dXxuM5v1/l2HdxPEMeczCR58MxGQy4XY4KZyZdrtwOQ2YLRZMJjcOh6NwGLfbhdPgi9nXUKTTNmrUmDJlPJueFhG5Gpx2G5iX7VP4u/PmurW4v3HPEq1JRK5fgYGBlz7oD0xUDQ3BsSuZtJytzJ62n1vHfsCjt/uDqxHp69ox//sTdKp6hOTA2rRu24GW5Trkd83rQruyj7NkVTqdu5Xh8LLl7G10D/8X5sMvhePnseWzKey8ZSTLnuxIWeD2uqfYevcMFiZ0ZXCNPy0LdJ8mJyOV48fiWPD216S2eJo2wSZC7n2FD+8tOOYfBn784lV+P5BHB9dcvj7UkuFTH6VjObgz2odHOn51zoAusiMeZMZ7D5K/ArEzH/b46zidG25jxpQdxIz6nqEdywJ3EJWxhS4zFnCw6xCqX82rF50Zlz2pUtpdBUHMxYkFb/FuShdmfPwY9c1wR3R5su58likr+zKmUhCGNckkOaGMD+A8RlJqAFXDIqkUZOCH48k4KUt+UxKp1lBCg4qWoGtF1qJWZK1ivToRkZLi8006pwuW4terU5v2kY1KtiARkSJzkpF+CgICsdoPcOBICtvH3s1GE4Cb7NQ8wm/NxHLrozw++3GGdujOHQ8OYejADtTwb0ynDsEMXLqKtM6NWfbdfpr2vIsq5749dGUQtzeZsJZRWAt2+VSuRfXAJA4dcsCfg1jOBt7p9zCfBQRzY7NYPhlyL2E+QNYu5r87ibnr40jKyOBEuj/3OeH0oUOkVK5HjYLBfUKqEuJ77oA+VGsaQ+iZ01xgHFdGHPuSw2gRVVgllWtVJ/DYIQ45uLqDmNF02ZMqpd1VEMTAmZeH03G68A0DGDAYLQT4+xIUE0ONN9ew6sAQIiNN2DYvZa2tGU/FVCZydw3+t3oF8UMiqWWysWXJGmwxT9NUj/oUERERuXrZd7NqXSI3tm1Ced89+Jpr0Pu9eTxZryB5GH0wmfL//cjk72m/aQ6TXh7Nw4cMLBnfngZd7qJK36Ws2H6MFYdieKBdCEZyzo5v9MXkC/bc3LP3brlyyTntR6XA84SAgNsY/fU7dPQ/d6edDW8O4bX9PXn7/VdoXH4r/7nzRQAMJh8MeXbsRXqgx4XHMfqaMGEnN+fsHWYuew6n/SpxvjKvKsbKhAQZOHEZkyqlXem5CtcRZg25g3+06cPHO3L45f+6cvs/BjJtv5uQLkPpV+5rHu/ch8cHP0avbi/w6y0jGXibBVOdfox+2MXUvt159LE+3Dt8PU3GjObuYDO1+z1HX/en9Ov2CIP6dGXk+iY8/2xHgkvPVYuIiIjIJbk5nZ1BakoSB7Yu5YOnn2FqWjsG9YnC5NeI6MijbPghAbfZjNlsxmwEtwvsSYdJtlsIveVBhj8Qje3IYTJdYIrqxJ3hG5n+4nyONO/C7cF/Pl8g0dE1OLxmOXvtAC5OrFzGZv8YWtYt6if6ORw+dILKN91O07CycGw/BzPzW8z16lM9+Rc2HXIAeSQs+Iafsi7wyMSLjENgNNE1DrP2+7j8Jwm6Uli19Bf8YloRdbVPPBiDiGlWg4TVK4h3AJyZVGlzzUyqlJ4ZMWM1er+/kt7nbWxJ7FdreGT/HhLSnJSpVptaVc6sFy1Py1FzWP5gHHuTXATXrEN4uYJPQ8q3YsSclfSJiyPZWZGaUeGUvZqnaEVERESuN0YL/n7ZfDeqBd8ZfbEGVaNO8y6M//wJOoQagZo8OGYIm57uR9f1jagekEVigpG73v6UHnv/x0MTDxFew49jO1K4c2zBEkRjLTp2qctHrx+k09P/oFzBqXxMvvj6+AAm6vQby2Mbh9O/8yYahuUQF2eg08sfcJv1T/X5+OJrNmH6ywxUWVp378AH44bw0JYq5OaFEBJqxuQDplq9ebL7Yp57+H421XCTUaYR0RGJGE1/rMNwiXEwRfHwvwaw6Zl+dNvYiKo5e9hr7Mx/PmjDn8ssrVxHZvJU30n8lpNFSk4uB++5jSn1BrBicr/8SZW1sfTrtoF6ZY6yM7UJz3987UyqGNxu94Xit4iIXMP8v0knt2BZzPgGfoyIPN8zmUVEvO+2Vq157Y3XadmqVdE72VOJ35NAmqE84bWqE+Kf/27dfnwfuw/bKHtjXaoHezqVYufEvt0cyvQnLKo2lf0v3ePPco7vY1+SkWr1alDhD1MgeaTu38URZ1Vq167EpYa+8DhAbgr79xwm0z+MOrUrX3Ksi/ly9mzmz/uaL2bPuoxRriCXjcQSmFQZFTuCqqGhxI4cUWznKD0zYiIiIiIif5clmOqNgqn+592VatG40t8elIq1Gl/WA/r8K9Wi4XnPbya4ZmP+sirS43EAvxBqNg75ewWWdkYroVFNCC3pOorBNTKxJyIiIiIicvVQEBMREREREfEyLU0UERERkVIlJzub8W+8SdObVpR0KdeduD1xHDyYwMsvvVTSpZSor+fN44lhw4r1HApiIiIiIlKqPNi3L+lpaThOOy59sFxRNWrUoHr16tf9a/9Q3740adqkWM+hICYiIiIipcozscNLugSRYqd7xERERERERLxMQUxERERERMTLFMRERERERES8TEFMRERERETEyxTEREREREREvExBTERERERExMv0+HoREflbUu0ujua6C7cblfMpwWpERESuLgpiIiLyt8w+epqh23MKt93dy5dgNSIiIlcXBTERkRLwSYKd1+LsAPj7wPa2ZUu4IhEREfEmBTERkRJw8rSbvTYXAP66W1dEROS6oz//IiIiIiIiXqYgJiIiIiIi4mWlb2li1m4WTV2IrfUwekX7n9OQzYFln/LJvI3EnzIS3KAHw5/rQnUfcCavZ9q7n7F2XyZ+4c25f9hA2kZYACfJ66cyafoa9mf6Ed68J0MGtSPCUlIXJyIiIiIiUqpmxFyc+Oljnuz2EGPemcyS3224CtucJHzxJI+8sZsavUbz4kux3HdTZcwA9u28MyCWpX5dGP5CLB0tyxg9aAJb7GDf/jaDhy/G/55YxsZ2wrJsJEMmbMFeYtcoIiIiIiJSmoKYYy8LZ+6gwbhJDKr/p4m63A1MeT+e9i+/Qf87GlIrsjFt7mpGmA/YN8xiblo7nh7RkcZ1m3LPyIG0TFrEgs2n2DhzDunthzO8YzRRN3UldmArkhfOZ4uSmIiIiIiIlKDSE8RMdXj0rQkMblnpL+slHXvWs9nelJiwfaxdsoglK7eRmAPgJHHXHjIi6lDbXHCwNZJaYakk7NvLrrh0wmvXwbegKaB2JGGpCcRnuhARERERESkppe8esfNwnjjByYzveH1YOrc0rsrpXa8w5o1OvDN7NNaMTLAGYD0TKY1lCLRCdtZxMk6B1WotTJvGwEACyMZmc0PFS58389QpMjMzi+uyROQ6lpHuC/kLrHG73SQePerV87vd4HYHAIb8ejIySDya6tEY6Wkm4OxNt0ePHMVguIJFioiIlBCD0UjVqlWL9RxXRRDD7cJQsQsvf/UKrS1A9u08f8cIvlz3FANNJtwOJ85zjnU5DZgtFkwmNw6H4+wwbhdOgy9m36K9U/h8xufMmD79il+OiEj87QOh2b0A5OXl0WXAU/inJXrt/DkVwsjrPwlM+WFwytxFrFw12aMxDt76CLTsXbjdechIrCkJV7ROERGRkhAYGMjS75cX6zmuiiBmqFCBwKxjpJ9JW+YqVA4+zQ6bi0qVgjCsSSbJCWV8AOcxklIDqBoWSaUgAz8cT8ZJWfKbkki1hhIaVLQVmY8/MYTHnxhSXJclItex8XtzGfV7LgAWi4XNS+Z6vQb/b9LJLVipHdv/QUa8+phH/ScdsDN0e07h9taFM69keSIiIte00nOP2EWYa0VT37yNHzeeAsBxcD0/H6lBo0aBBMXEUCNhDasO5M982TYvZa2tGbfFVCamWQ0SVq8g3gFgY8uSNdhi2tDUfOFziYiIiIiIFLfSMyPmOsKsoQ/zwW85ZKXkkJvQldsn16P/lA94pGY7Bg+Zw6DR9/JQ41Aydx8kaND/6BdlwuTqx+iH1zKyb3c21A8kccdJmoz5iLuDzRj7PUfftbH067aBemWOsjO1Cc9/3JHgqyJ+ioiIiIjItcrgdrvdJV1EUdmP72XX4WzK3liXGsHnTmu5sCXGsTfJRXDNOoSX8zmnyUZiXBzJzorUjAqnrM9fhhUR8bpzlyb6GyG7a3mv13Du0sTxDfwYEennUf8/L010d/f+NYiIiFytSs+MWBFYKkUSXel8LUasoVFEh56vyUpoVBPO1yQicrWan5jH/GOnAShnMjCxcUAJVyQiIiKeuKqCmIiI5Nua4WTaofwgVslsYGLjEi5IREREPKK7pURERERERLxMQUxERERERMTLFMRERERERES8TEFMRERERETEyxTEREREREREvExBTERERERExMsUxERERERERLxM3yMmIiIl4liuiw/i7YXbg260EOavzwdFROT6oCAmIiIlIjHHxUu7zwaxTpV9SySItVqTScZpNwBP17QwsLrF6zWIiMj1R0FMRESua7syXaQVBLHjdncJVyMiItcLrQERERERERHxMgUxERERERERL1MQExERERER8TIFMRERERERES9TEBMREREREfEyBTEREREREREvUxATERERERHxMgUxERERERERLyt9X+ictZtFUxdiaz2MXtH+f2p0kbrpc6auOEm9nkO5u1Z++c7k9Ux79zPW7svEL7w59w8bSNsIC+Akef1UJk1fw/5MP8Kb92TIoHZEWLx+VSIiIiIiIoVK0YyYixM/fcyT3R5izDuTWfK7DdefDzn1IxPHvMOXs6ewdM/p/H327bwzIJalfl0Y/kIsHS3LGD1oAlvsYN/+NoOHL8b/nljGxnbCsmwkQyZswe7tSxMRERERETlH6Qlijr0snLmDBuMmMaj++Sbq7Gz/6E1+bvY4XcN8zu7dMIu5ae14ekRHGtdtyj0jB9IyaRELNp9i48w5pLcfzvCO0UTd1JXYga1IXjifLUpiIiIiIiJSgkpPEDPV4dG3JjC4ZaXzrpd07pvBm4urM+ypGM4uWHSSuGsPGRF1qG0u2GWNpFZYKgn79rIrLp3w2nXwLWgKqB1JWGoC8Zl/mWsTERERERHxmtJ3j9j5uBL55s3PMT86lbsqZhFX2OAkIyMTrAFYz0RKYxkCrZCddZyMU2C1WgvTpjEwkACysdncUPHSp12zajUbNmy44pcjIvJdxRgIuRmA0w4HY16fQBlnTpH7r6jUEoIbA2DLzuaF16YQ4Cr6dH+mjz+OWg+BMf/PwLer1nH6q589uAJYFdwUKt1SuP38G29TzmErcv891nCI6Fy4/d5ns1lpO+RRDZfL5mMhp+aD4JN/8/B3P2zAZ95Gr9ZwPm5ga9lIbD5+ABjdLmIy9mB2O0q2MBGR64Sfnx/PxA4v1nNcFUEsfeVEPkzpzoReEfiw85wWIyaTCbfDifPMLrcLl9OA2WLBZHLjcJz9o+V2u3AafDH7Gop0Xv8Af4KCKlyx6xAROcPqf/apQQYDVCpfBn+3X5H7B/iZC/9tMBoIKV8GCwFF7m8x+OafuECgn9nj33eB/n988lFIuUAC3eYLHP1X5X3/WG+FwACCLN79netvMGE453UI+IVTGpYAACAASURBVBuvQ3E5WqYG6wNqAFDFkcHdxiRMf717WkREioHZXPS/Z3/XVRDEbKyd8y3Jx6rx/L3fAXZS4rOwv9Gb4en/Y3SlIAxrkklyQhkfwHmMpNQAqoZFUinIwA/Hk3FSlvymJFKtoYQGFW1FZrNbbqHZLbdc+kAREQ+d2pvLot9zATD5mHh68GMe9T+6K4flu/NnwAL8/Hny8YEe1/DPb9JxFLyvb9OiGYMib/Oov+OAnXnbz87ixQ7u71H/zWkOJqzOKtx+oHsXmgV5/8/Si4syyDntBqB1zE0Mimrl9RrOZ9u2bNbH5wFQsUIFnrh/UAlXJCIiV9JVEMSs3DV+DS2ynbgBHPuY0m8Ihx57j393rYY1PoYab65h1YEhREaasG1eylpbM56KqUzk7hr8b/UK4odEUstkY8uSNdhinqZp8QdcERHxgs1pDjam5a+J8DPCYzfq+0lEROTqUHqCmOsIs4Y+zAe/5ZCVkkNuQldun1yP/lM+4JGawYQEFhznOEmgxUJAuRDK+QF1+jH64bWM7NudDfUDSdxxkiZjPuLuYDPGfs/Rd20s/bptoF6Zo+xMbcLzH3ckuPQ8okRERC7D0mQHY3flzyxW8DUoiImIyFWj9AQxYzV6v7+S3pc6zhTFkwt/OqdfeVqOmsPyB+PYm+QiuGYdwssVPN6+fCtGzFlJn7g4kp0VqRkVTlmf8w8rInI+uzOdrEs9e6/pYzeY/3BPkYiIiMjfUXqC2GUxYg2NIjr0fE1WQqOacL4mEZFLWXPCwePbzt4H9egNZvR5joiIiFwuLdITERERERHxMgUxERERERERL1MQExERERER8TIFMRERERERES9TEBMREREREfEyBTEREREREREvUxATERERERHxMgUxERERERERL7tGvtBZRESk9Dh12s2Mw3mF2/dU9aWavz77FBGRsxTERERErrAUu4uh23MKt2tZjQpiIiLyB/qrICIiIiIi4mUKYiIiIiIiIl6mpYkick2L/TWHtNNuAO6paqJ7qLmEKxIRERFREBORa9zso3kk5uYHsTB/A91DS7ggEREREbQ0UURERERExOsUxERERERERLxMQUxERERERMTLFMRERERERES8rPQ9rCNrN4umLsTWehi9ov0LdtrYt2w6MxZsZN9JE1Vj7mPwkI7UKmh2Jq9n2rufsXZfJn7hzbl/2EDaRlgAJ8nrpzJp+hr2Z/oR3rwnQwa1I8JSUhcnIiIiIiJSqmbEXJz46WOe7PYQY96ZzJLfbbjOtKQs5sPJOwmIvpPOt1fmwLThPPF/P2MHsG/nnQGxLPXrwvAXYuloWcboQRPYYgf79rcZPHwx/vfEMja2E5ZlIxkyYUt+PxERERERkRJSembEHHtZOHMHDcZNIuqtR/n5nCZjyP28+dX9BVt2wg+tYeCvv3LCFUPFDbOYm9aO10Z0pLEfNB45kOVt3mTB5iFkLphDevvXGd4xGgvRxA78jjvenM+WZ5rSQrNiIiIiIiJSQkrPjJipDo++NYHBLStdIh3mkJKShbVKVcobnSTu2kNGRB1qn/mOVmsktcJSSdi3l11x6YTXroNvQVNA7UjCUhOIz3RdaHAREREREZFi58GMmIuMnUv4avEWEk85cLnzvyAVgz8Ne43ivvremVyz/zqVaRuq0uOT27HiJCMjE6wBWM9ESmMZAq2QnXWcjFNgtVoL06YxMJAAsrHZ3FDx0udKSEjgyOHDxXUpIlLM3G6w26Og4OOYhEOHWZea7NEYe3KCgLDC7dVr12G5Ah9h7c+uCFQFwOlysXrtD5gMRe+fYKsEVAYg7/Rp1q79AaMH/R1ucLnqc+bzuH0H4lmXdKLoAwBxf3ltPLuGHaf9gVqF279s3U6eOdujGg7YQoAqAJx2OFiz9gd8PKjB5YbTjnqAT/54CQdZl3LcoxrO56DDDNQp3N722w4C4jI9GuNoZigQDEBWdjY/rN2OwYNrExGRv89k8qV5i+bFe46iHuhKnsdzj4zn+M23UfXISnaV78CtVQ+x7icr9R7xzl8GV/J3vBT7OX6DJvPUzf6AA5PJhNvhxHnmILcLl9OA2WLBZHLjcDgK+7vdLpwGX8y+Rav3p02bWLRg4RW/DhHxjmy/stjaPgv+5QD46fc9GLfO9miM7XXvhvpnw8bEmd9QPjPpsmvb3LAr1CkIYk4HE2fMoYwttcj9N0X3hFr5QSwnN4e3p80iIDejyP0zrRVxdIgCn/wgtnbr79h++8aDK4Bt9TpCvbOvzVtfzKdcZtGD7sGwaGhxNojN+m41G49s9aiGnxvfB5H5Qcxut/P29C+x5qQVub/NvwL29s+DOQCA9b/u5PT2uR7VcD6JlaLgtrNB7OtVP/J7woYi93cD25v1g4j8IHYyLYP35k3HfDrnsmsTEZFLCwgIKD1B7PSOn4m/5Z98+e5dxL9+L+9FjObfffz5dXw/Ptp6kp41Q4qzTlyp63hjwL/Y0WY8k59oTP4DE41UqhSEYU0ySU4o4wM4j5GUGkDVsEgqBRn44XgyTsqS35REqjWU0KCifZzds1cvevbqVXwXJSLFLmxJBom5+TP4PTu24+WRXTzq/2G8nce3nX3z+/X7b+JzBaYlxu/NZdTvuQCYfc18/dFEj/qP25XDS7vzHz1UrkxZ5kx5z+Ma/L9JJ7dgpXb/+7ow4rn7L97hTyYdsDN0+9nX5psP/udR/81pDm5enVW4Pf7Zp2kW5Nnqild25zJ2V/7rGGi1MnfyOx71BwhalEHa6fyfkYfuuZsxo7t7PMaf7c9yUmv52RmwF58aRIfKQz0a44lt2bwfnwdARFhVZk39+LLrEhGR0qPoC2z8/PB1uwETIZUrcGjnTmz4UjHIyIHdB4uvQgDbFiYNHs73NUbzxpAGGNJSSUvPIg8jQTEx1EhYw6oD+TNfts1LWWtrxm0xlYlpVoOE1SuIdwDY2LJkDbaYNjQ1X/RsIiIiIiIixarIHz1a6t9Mzd+/ZvHRLvRs35Xqk56gy5bK2A/ZaftO1OVX4jrCrKEP88FvOWSl5JCb0JXbJ9ej/5QP6JO6iK+3nuDgLyPpeGbljKkRw5fMY2idfox+eC0j+3ZnQ/1AEnecpMmYj7g72Iyx33P0XRtLv24bqFfmKDtTm/D8xx0JLj2PKBERERERketQ0deAlOvC6wtuw1nGiNHYg/+bW43vfzyEqU4b2jYJvPxKjNXo/f5Kep+vreYLrNj/wgU6lqflqDksfzCOvUkugmvWIbycT0FTK0bMWUmfuDiSnRWpGRVOWZ/LL1VERERERORyXDKIuTL28+uxsjSoHcCp9FQyT5x5qlYI9WNCwJBHZg4E+xdzpRdlxBoaRXTo+ZqshEY14XxNIiIiIiIiJeESQczFyYUv8vBnDZnxWTUm3Pkv1uW5/3iIwcrdEzcxsXOJJjEREREREZGrxiWCmJGKvSexqosvweUsfLK7j3eqEhERERERuYZd+rEVpkCCy1mAHA7+tJ64DNfZtqw41q3cSZrrgr1FRERERETkT4r8/EDnoS8YM+Zbks7t4ufDgWmxvLEy68IdRURERERE5A+KHMQc++LIaHIHt5Q7Z6epJvd2uYHfN+0phtJERERERESuTUUOYqZq1fDb9h2rj+ad3ZmbwLKVu7AGVyiO2kRERERERK5JRf4eMZ9aDzG8/QCeadecN6rfQAVTLicOHiAj/BEm/ufG4qxRRERERETkmlL0L3Q2VqDlqK/4/t6fWPfLPk7YfSgf0YRWraMILvooIiIiIiIi1z0PI5QLLBWIqFOfUBe4yeHQbzvIrlGX8HJFXuUoIiIiIiJyXSt6EMvbzWdPDODV1SewlLHiayjYbwig7X+/59U7LcVToYiIiIiIyDWmyEHM/stMPku6kw/Wjea2KgpdIiIiIiIif1fRH9ZhDaRCRE0aKoSJiIiIiIhcliIHMVPDRxgQPIqXpoYy9NaQs8+9N5gpVzWcYP/iKVBERERERORaU/R7xDJWMnvOj6y1r+Pbc/cbrNw9cRMTOyuJiYiIiIiIFEXRg1iF3kze1bsYSxEREREREbk+eP7MeaeNE4ePkpZXDNWIiIiIiIhcB4oUxPKOJ5KSZ+PXT4bQITqalm3a8fzCLCCbleMeZcJmpTIREREREZGiukQQy2bfgn/zSP+J/LLjM16d4cNjX25g5oDq4HQBftSr7uTHdfFeKVZERERERORacPEglraA1944xn3v/5c70uLJvLkb3eqWPaeTkcAy/tgyMoq7ThERERERkWvGxR/WUa49jz/8Ay8//QYhL9Wk3NZlrE5sRUhBs8u2mzkLdlCl/Q1XrqKs3SyauhBb62H0ij77JEZn8nqmvfsZa/dl4hfenPuHDaRthOUSbU6S109l0vQ17M/0I7x5T4YMakeEvgpNRERERERK0MVnxIzB3DzoPT57vSs31OzNiO5JvHTXrTz5VTybJnanTYtufJj3IE91r3wFSnFx4qePebLbQ4x5ZzJLfrfhOtNk3847A2JZ6teF4S/E0tGyjNGDJrDFfvE2+/a3GTx8Mf73xDI2thOWZSMZMmEL9itQrYiIiIiIyN9VpMfXl4msRxngxic+Y3mXLazfvI9Uu5mgmk1p0TSCQM+fvfhXjr0snLmDBuMmEfXWo/x8TpN9wyzmprXjtREdaewHjUcOZHmbN1mw+Rnq512obQiZC+aQ3v51hneMxkI0sQO/444357Plmaa00KyYiIiIiIiUkKJ/j5jrFEf3HuWU04+w2g0IAyCLw3v2UiEikirWy62kDo++NQGcCXz41rkNThJ37SEjoju1zQW7rJHUCktl64F0jmReoG3fXnbFpRPerQ6+BU0BtSMJS91CfKaLFpZLp8fDhw+TePToZV6YiJQUtxvseTWh4LfA4SNH2XTqhEdj7LOVB6oUbv+4YRNF+PVxSfFZQUAlAJwuF+s3bMTHUPT+h05VBCoCkOc4zcYNGzF40N/pBperNmcWRsQfPMSm1JNFHwDY/5fXZiMmD2r4Pc8PuLFwe/tvv+O25HpUw8HMYChYMO9wONiwYSNGD2pwucHhiAR88sc7fJhN6ake1XDeuk77AjULt3fs2kW5+GyPxjiWXhmoAIAtJ4dNG3dedl0iIlI0JpOJm26+uXjPUeQj05bxcp//sCHPXbjLkWvDXa4Wvd5cyAt3FNcUk5OMjEywBmA98+bHWIZAK2TbMi/clnWcjFNgtVoL118aAwMJIBubzX3m/ctF/fjDD3wz/5tiuCYR8YYc/3LY7hwD/uUA+HHbTvJ++dyjMX5r0BkadincfvWT2ZQ/lXjZtW2Nvg/qdgDA6XDw349nUCYrpcj9f7mpD9T+BwA52Tm8+sGnBOSkF7l/ZmAIjo7jwCf/N+SKTVtJ3T7PgyuAXxveAw06FW6/MmUW5U4dK3L/Q+FNofXgwu1PFyznhsO/eFTD5qY9oU5bAHLtdl79cBrW7KIHSltAELl3/wvMAQCs3vwrmVu+9KiG80msWg/+8XTh9hdL1/DTgXVF7u8GtrQcADfEAHDiZBpvzPoA8+mcy65NREQuLcAawJRPPy3WcxQ9iAXfz/tb7v/DLtvumYwdt4mGkUUfxnNGTCYTbocT55ldbhcupwGz2XzhNosFk8mNw+EoHMntduE0+GL2LdrHpb0feIDeDzxwJS9GRLwsbEkGibn5HyD17tyel0ff41H/D+PtPL7t7JvfRR//Hz6eTD1dwPi9uYz6PX/2x2w2s+iTdz3qP25XDi/tzr/jtVzZsnwz7UOPa/D/Jp3cgptxB/TsyogxvTzqP+mAnaHbz742iydP8Kj/5jQHN6/OKtyeMGY4zYI8+3vyyu5cxu7Kfx0DrVYWTH3fo/4AQYsySDud/zPySLdOjHnuPo/H+LP9WU5qLc88W+fwx+lQ+UmPxnhiWzbvx+d/T+cNYaHM/XzqZdclIiKlx2UtsLFG9eGFblnM+GrPlarnPIxUqhSE4UQySWfSlvMYSakBVA0LocoF2yKpFGTgxPFkzjYlkWoNJTToStzUJiIiIiIi8vd4kEjspCclknj0aMF/R0j4fQWfL9kJvr6X7v63GQmKiaFGwhpWHcif3bJtXspaWzNuu8ly4baYysQ0q0HC6hXEOwBsbFmyBltMG5qaL3w2ERERERGR4lb0NSAn5vDMbWNZl3d2l8Fcnhq39ufFh2peuF9RuY4wa+jDfPBbDlkpOeQmdOX2yfXoP+UDHqnTj9EPr2Vk3+5sqB9I4o6TNBnzEXcHGzFVuFCbGWO/5+i7NpZ+3TZQr8xRdqY24fmPOxKsCTERERERESlBRQ9iFR9kys5eOF35NxQYjT4YTT6Xt7bxXMZq9H5/Jb3P21ielqPmsPzBOPYmuQiuWYfwcj4F/S7SVr4VI+aspE9cHMnOitSMCqesz5UqWERERERE5O/x6PH1SfuPcsrpvuAhBr8QqtcIoXien2jEGhpFdKiHbUYroVFNOG83ERERERGRElD0IHZqLe8N/idzD9mxBJgxkv/4+jyDHwGW/GkmQ8RDTJ7/LDfpHiwREREREZELKnoQs1SjatU69PnnBMZ2CMME2PfN4Z/PrqLFhLfpEa41fyIiIiIiIkVR5Fu87L98xbJK/RhVEMIALLV68M97c5j51R4cF+0tIiIiIiIiZxQ5iPmUD8Ln91WsTMg+uzPnAGs2HsDlo9kwERERERGRoiry0kRT/YeJvWMQI9rfwqvVwggy55GWeITs8N68PjbSgzWOIiIiIiIi17ei5ydjCG3GzGXVQ1v5aXsCGU4/yodF0fSmmpTXhJiIiIiIiEiReTiRZaRMtSgaG6vgUzmMCno6ooiIiIiIiMc8+D5mG79+MoQO0dG0bNOO5xdmAdmsHPcoEzbnFVuBIiIiIiIi15oiBzHn/hm8OsOHx77cwMwB1cHpAvyoV93Jj+vii7FEERERERGRa0uRg5jj4AEyb+5Gt7plz+lkJLCMP7aMjGIpTkRERERE5FpU5CBmurEm5bYuY3WiE3fBPpdtN3MW7KBKjRuKqTwREREREZFrT5Ef1uFT4wFGdB/Ck3fdCj42sgO60+blozjqP8373SsXZ40iIiIiIiLXlCIHMVfiL2x19uGjhVU4tnUfqXYzQTWb0qJpBIEePPJDRERERETkelfkIHZ6/3I+WxBI08EdaXdD0+KsSURERERE5JpW5CBmuaU/w+rF8uq/ZjLisWaEnPkSZ4OZclXDCfYvpgpFRERERESuMUX/Qmfbzyz9bgfb7GPp+9U5+w1W7p64iYmdlcRERERERESKouhBrEJvJu/qXYyliIiIiIiIXB/0mA0REREREREvu+SMmHP/HF6eBn3H9aCGD9h/n8+8U63o1TLECykuiz0LPmLKgs0ctflRtWkXBgzpRlQg4Exmw6fvMmPNPjL9Iril11AGtIvAwiXaREREREREStgls5QzdSfr1u0k1Zm/bd+xmNnrj+Eq7sqArJUvM+i/O4jsN5Z/P9+TihvGMfTNjdix8+vEgYxc7E/nES/wTCcLy0cM5u3Ndrhom4iIiIiISMkrxUsTHRz9dQdpUe25v3VdIhu1477bbyT1yBHsuRuZPSeNtrEjuDu6Lk27jeSxVkl8O3/zxdtK+pJEREREREQo4sM63NmH+Xnpt6T4gH1HCpknNrH028P5Kc5godrNd9Co0pXOdCZuvLUN1T/9mFe+bMyoRtt5Z14mHUa3wT9xDnHpEXSt7VtwbACRkWGkbokn48ipC7ZluVpi8aBMp9PJydSTV/i6RMSbnE4TYADAlpVNyvEsj/qfOmUEfAq3jyefwHQFft1lZZ4d142blOMpHvW3ZZ3t73K7PO4P4HaffW0yM22kHM/0qH/mX16bFAyGovc/mWng3D9DJ0+mk+Jwe1RDlu2c18H1914Hl+vs65Bl8/x1OJ/UHADfwu309AxSDJ5dW3b22WtzOJ1/69pEROTvK1uuLBZL8d3cdMkgZixXlQj/5cx+49Vz9k7jzV/P/NvK7S/eSqO2V75Iy03D+fC1FB56ugu3ugJoOGwa0+8Owb31FJlYCQg8827ISGCgFbKzOJVx4bYsNwR7cP7Dhw7R6/6eV/iqRMRb8gKDSX1sEgQGAfD5oqWsXzzBozGO3PYI3PpQ4Xb7x4ZhTT5w2bUdbDsYmvcAwG7Po92Dg/FLO1rk/vF3PwVNuwCQnpFBh15DMGeeKHL/nKAw8gZ+BCYzAB/OnseSFR95cAVwuM2j0PqBwu22jw4l4Hh8kfun1msD3ccWbg/9zxtU3LHKoxoSOgyFmG5Afohq3+dxLBnJRe5vL1eZrAEfgF8gAJ/MXcjK797zqIbzSavZDHq/Urg9evy7VN76bZH7u4H93cdAvX8AkHD4CHe99CQmu+2yaxMRkaJ5Y/x42vyjTbGNb3C73Z59ROdF2b9OZthTcynz0EjuK/MD747/FnP/ybzfejm9e+6k36ZPuL8sgJNDH/Wi86pOLHoulSG9z9+29PNHCS3FizFF5MoLW5JBYm7+r7kxdSy8XM+z7zz8MN7O49tyCrcd3crh48m0zwWM35vLqN9zAfA3QnbX8h71H7crh5d25y+4rmQ2kNypnMc1+H+TTm7BDb/jG/gxItLPo/6TDtgZuv3sa+Pu7tk1bE5zcPPqszOUm9oE0iyo6N+qAvDK7lzG7sp/HSv4GjjZ2fPXIWhRBmmn839GXq7rx5goz16H89mf5aTW8rMza8taWulQ2fciPf7qiW3ZvB+fB0CDMkZ+a1f2susSEZHSw7O/eN7kSmHhW2+T0mUmHwyoj5m2RFfIouPoyazpGEOQYS3Hk51Q1gdwknQslYCqYYRU9blgW7BCmIiIiIiIlAKlOJq4yLM7cZzOo3DKzmDAYAnAGhxDTI0E1qyIxwFg28LSNVnEtLkJS9CF2zz7LFJEROTqNftIHo1WnKLRilNErzhV0uWIiMiflN4ZMWMInYf159vhg+i6vQnV/dPYu/MUt4yaxK2B1WnyfF9+GN6XHuvrE5i4g9SmY/igUzBGUwUevlBbSV+TiIiIl5zIc/Pbqfy1p5e/mFZERK600hvEMFKh5QhmrX2EA3sOkuYsQ1jtWlSx5sep8q1GMXvVg+yNS8ZZsSZ1wssWPFvKeJE2ERERERGRkleKg1gBS0VqNKp43iajNZQ6TUI9bhMRERERESlJWq0nIiIiIiLiZQpiIiIiIiIiXqYgJiIiIiIi4mUKYiIiIiIiIl6mICYiIiIiIuJlCmIiIiIiIiJepiAmIiIiIiLiZQpiIiIiIiIiXqYgJiIiIiIi4mUKYiIiIiIiIl6mICYiIiIiIuJlCmIiIiIiIiJepiAmIiIiIiLiZQpiIiIiIiIiXqYgJiIiIiIi4mUKYiIiIiIiIl6mICYiIiIiIuJlCmIiIiIiIiJeZirpAi4pez/ffTKFrzceINNYkQY9Yhl1Tw18nMls+PRdZqzZR6ZfBLf0GsqAdhFYAC7WJiIiIiIiUsJK94yYM4FZwx5m/O6a9Hr2ZcaNuJ+mVcyAnV8nDmTkYn86j3iBZzpZWD5iMG9vtl+iTUREREREpOSV6hkx+4aP+TC+Pa8ufozm/gC1iATIXcPsOWm0fWMEd0dbIHokj33Xhv/N38xT9U9fuO2mlpoVExERERGREleKg5iDPes3Y2/6FKH71rDsoA1LtWhuiQ7FnLiTuPQIutb2LTg2gMjIMFK3xJNx5NQF27JcLbGU7jlAkWvKU9uzyXLk/7t7qC9dqvpevIOIiMj/t3ff4VFU+x/H39nd9EJJ6D0h9N5Bkd5tKCD3qlQVBEWqgigXveoPC+pVUQTsNBsIIlWaFdAAUqWXhEACSBpJNtny+2MhgCYhm9kU8fN6nnsfJ8M5e853ZnfO2Zn9HpF/iGI8EbNz7tx5Etb9H48ltKFxxUz2PzeFl2+dxcd9kkgmkICgy7MqE0FBgZCaQlJizvtSnBDqRgvmzpnDti1bPdwvkX+Gi34l+LLDRDJ8AgDYuulblu9dVqhtSPUN5sIt48EvBIAv12wk7pUv3apje2Q3qNMza/ueMU9S6mK84bZtrdsHanYGICMzk4GjJxGc9keey//YoC/UuBmApORk/v3wdAKtSXkunxRQmsyOj4PZNTn+eOlKfv/9Gzd6AFG1ukPtHlnb/R+dTMmLZ/Nc/lj5htBySNb2lJlvE376N7fa8HO92yGiAwAXU1P516hnCUpPyHP5FL+SXOw4Ebz9AVj0zVqOv2T8PI0Ji4S2I7O2//v2+3wevS3P5Z3Axmb3QaWmAETHnmbQQ1PwtaXnuY5fa/WA2t1d9Tmdbh8fEZF/sipVqjDtmekF+hrFeCIGTocXYbe+wOIX2uMLpHZ6gu7jP+WnHtUwO23YbVn/EofTjpePDz4Wc477vL3ce/227doRHh7usf6I/JPYnbAixYeMS9vN6tRkYON/uVVH1+QW12x/G/yrW+UdTlh90Y80p2u7cWQNBjZ0rw1+GWXYftVPTIfc1hV/k9OtOrLjtJZn96XgmM1mht7ZE4tX3uu9mF6R/Zmu//b182XoXX0wufEZZ3N6sTTFjP3Sdsv6tRjYLCTvFQA+GWXZcVVsht3eDR83+rDXFsj6tCvbt7VvSUNLPbfakGGtwN5LcfTx9mZo316Y3YiD6zz1zjpPm9eJcPs8zc4Jux+rU69s92zTjDbtI9yq43RaZY5eupaVLBHCoP598XKjb97Wsuy83DEvGH57N7zdOD5g/D0oIvJ3FRQUVOCvUYwnYl6ULBXMxdiErIGCT/nylM7cQ1qpspT2+o74ODuEmAE7Z06fJ6BCJcpUMOe4L9TNxxIbNGhAgwYNPNwvkX8O7xWJkOka+NWKCKdLHfcG2W8ftTLqtysj9S5du7rdBr9ViZDuakPN8Op0qVfXrfKHj1lh55U29OrWGbM7o+Ec7DiUDntcdzfMJhM9unVxq/x3+9Pgd9csdUXi6QAAIABJREFUyNfbh27d3I+NeVkCmQ7Xf9etVZMuke593h04aoXfro6Ne30oecEGm1Kyttu1akmr0u5dlrb8ng77XXH09vamez7icO15GkGXOvXdruPPjqTYYV1y1nbLZk3oUs69R3O/3JkKx1wzqeDAQLq6ef7/ftXx8cKLnm4eH4Caa5M4fNF1koyN8KVLI/fjKyIi2SvGv5jyIbJJfbx/+4GtiQA2Tv64lVPhjWhcuSUtw4+zef0xbAAXt7N6cwotOzTHt3TO+/TrFBERERERKQ6K8R0xCOk6kpFfPMjku/9F4wrJ/H4ilAdeHUptvyDKTbmf78fdT7+f6hMUu5fzzaYyu08oJkspBuW0r6g7JCIiIiIiQjGfiOFbjyEfbKDPoX2cTA2het0IQn1cu0reNIlPN97LoYNx2MMiqF0lBDMAplz2iYiIiIiIFL3iPREDwJcykU0pk80eU2BFajetmG2p3PaJiIiIiIgUJT2tJyIiIiIiUsg0ERMRERERESlkmoiJiIiIiIgUMk3ERERERERECpkmYiIiIiIiIoVMEzEREREREZFCpomYiIiIiIhIIdNETEREREREpJBpIiYiIiIiIlLINBETEREREREpZJqIiYiIiIiIFDJNxERERERERAqZJmIiIiIiIiKFTBMxERERERGRQqaJmIiIiIiISCHTRExERERERKSQaSImIiIiIiJSyDQRExERERERKWSWom5AnjjOs23++2y4UJ/+o3sTYQHscfz8wVvM33yYZL+qtL5nNA90rYov19knIiIiIiJSxP4Wd8SSf3yNp9/8jM/fW8WBTAAru/73IBNX+nPrhGmM7ePLugkjeCPKep19IiIiIiIiRa/4T8TSdzL3pV9o+fAdVLzc2vQtfPrFBbqMn0CvJnVpdudEht90hm++isKa274i7YiIiIiIiIhLMZ+I2Tky/0VWhT/KIy0Drvw1dh8HE6pSq5b3pb8EEBlZifPHj5EYk/O+FEehd0BEREREROQvivVvxByxS3llgS9DPupFWPLBrL/bE5NIJpCAoMvzSBNBQYGQmkJSLvtSnBDqxuunp6eTmZHhqe6I/OM4nc6s/7ZarSQnufd+Sk93XrOdnJTkdhscjj+3IdO9NqT9tQ1mLy+32/GXeq/qmxP3+2a1XvlmyeF05is2V/csPb3wj8/Fi84/bV8k2eJebK3Wq+KY3zgYPE+zk5J6bd9SU1NJTnKvbxkZV46x3eFwu29Xn7v5OccAHI4rbcjIcP/9IyLyd2UymwkMDCzQ1yjGE7EENr4+m3N3vUH/qmbYe2WPyWLG7LRht13+ixOH046Xjw8+uezzdnPsNH3aNFavXGW8KyL/QBklypE0+gPwDwZg9sIvWfHNa27VcbrLA9BxcNZ2i76D8I87kufymcGhnHv4PQh2fQXz/ufLWbf8Zffa0Hk4dBqStd3q7iEEnDnsVh3ZOdVzNNw0EHAN/lveNhS/89F5Lh992wRodScAFxISaN1zGD5JZ/NcPj20ChmPfAgWHwBe/3ARn6+Z5UYP4HSXB6HjoKxtd4/PhQZd4J7pWduDH59O6d3futWGmD5joc3dACQlJ9O69zB8Es7kuXxGyfIkjXo/6zx9e+EXLP/mdbfakJ3EyDYw6Mq59sgzLxH26/I8l3cCJwY8Aw07A3D0+EnaPTkCc3pKnus43fUh6HD/pQqdtLjzPvzjj+W5vC2gBNEj50KpCgAs/HoNP375XJ7Li4j8ndWqXZvPvvyiQF/Dy3n1V4HFycVljGr1FLsrVyfUG7Ce5cgxK2Xr3cKwp5uyevAS2ixbyuhIM5DBtmd6MCZxChsnn+Ghjl9ku2/zq92VOVGkEIWuSOSPTNdHzLN1/Xi6jp9b5d85amXUb2lZ286+Jd1uQ6VVicReunMztbYvz9Xzd6v8u8esjNx5pQ22O0t45I7YK4fSmbQnHQB/E6Te4V7f/rM/jWd/d/3ytayPF3F9SrjdBv9lCaRfuuHxSgM/JkS6d3zePmpltIHjE3XBRotNVyYWWzsE0aq0e98PPv97Ok/td8WxlLcXf9zqfhxKr0jkwqXz9Lm6fkx18zzNzpEUOzXXJWdtr2kXSPdy3rmU+KtRO1N555jr7lyDYBO7u4a4VX7WUSuPXDo+XoAjH++fyLVJHL7oOknGRvjyWiP33j8iIpKz4ntHLLAXL33XjlS76+JoOzyX4SNPMvTtZ7mjfCznw19l8/pjjIisieXidlZvTqHlY83xLR1Py/BXst3n3iVQRERERESkYBTfiRg+BIWWIejSlu2PIHx9AygZVgJfSzCDptzP9+Pup99P9QmK3cv5ZlOZ3ScUk6VUzvuKtD8iIiIiIiIuxXgidi1Lncf46pfLWyZK3jSJTzfey6GDcdjDIqhdJQTzdfeJiIiIiIgUvb/NRCw7psCK1G5a0e19IiIiIiIiRUlP64mIiIiIiBQyTcREREREREQKmSZiIiIiIiIihUwTMRERERERkUKmiZiIiIiIiEgh+1tnTRQREZHia2eCjX3JDgCCLF7cXsG7iFskIlJ8aCImIiIiBWJhTCYvH7ICUM3fi9srlCjiFomIFB96NFFERERERKSQaSImIiIiIiJSyDQRExERERERKWSaiImIiIiIiBQyTcREREREREQKmSZiIiIiIiIihUwTMRERERERkUKmiZiIiIiIiEgh00RMRERERESkkGkiJiIiIiIiUsg0ERMRERERESlklqJuQK4uHmbtxx+zYsth/jBXpEW/kYzoXRN/AHscP3/wFvM3HybZryqt7xnNA12r4nu9fSIiIiIiIkWsGN8Rc3Dum3d4f18gjXvcRodyR/hk7Ahe/8UKWNn1vweZuNKfWydMY2wfX9ZNGMEbUdfbJyIiIiIiUvSK8R0xE2EDZrJ4wKVNaxWiNw9n929noeERPv3iAl1emkCvJr7QZCLD13Zg5ldRjKmfmfO+5u10V0xERERERIpcMb4j9idpZzmbEki5iqWwx+7jYEJVatXyvrQzgMjISpw/fozEmJz3pTiKqvEiIiIiIiJX/E0mYlZ2f/AhWyoM4L5OgdgTk0gmkICgy803ERQUCKkpJOWyL8VZVO0XERERERG5ohg/mniZg7i105m40I8H5z1Gc3+wWcyYnTbstsv/xonDacfLxwefXPZ5e7n3yk9PncraNWs91xWRfxBrSFkSH5gN/sEAvPXJp6xY85ZbdUR3GAI335u13bD3AALij+W5fEZQKPHD34ag0gDMWbyEdStfd6sNMbcMhvb3ZW03vnUggXFH3aojOye6jIA2/QBIt1pp3O1O/C6cynP5Y73GQLPbAPgj4QJNOw3EJ/lcnsunla6E9cE5YPEB4JV5n/DZ+jlu9ACiOwyFm/+dte3u8TlfrwP0fSpr+1/jniRs70a32nC8+2hoeScAScnJNOlyL76JcXkuby1RjqQHZoNfEABvfLyY5WtnudWG7FyIaAUDn8/afuip5ym345s8l3cCR/pOhXodATh8/ATNb3oUi/VinuuI7jgUbnIdH6fTScNe/Qk4ezzP5TP9Qzg5bBaULA/AJ199w0/DXsxzeYCjt06Exj0AiI2Lp9kt/fBOTXCrDhGRohAZWZP5ixYV6Gt4OZ3OYnyfyMH5H15k+PifaPnS+0zpWAYT4Ij/mMEdv6DNsqWMjjQDGWx7pgdjEqewcfIZHsph3+ZXu7v1G7HkpCTS05XkQyS/am21kGBzfQPyeBU7E6u693zwB6dNPHHUnLUd1y4TLze/UGm4zUJcpqvQ2Ep2nqzuXhs+PG3i8avaENs2E4sHniWYFWPimROuev1MTk62tV2nxLVePGFiZoyrfJi3k32t3CsPUOUnC1anKzb/qWZndGX3YvN+rInJx/J/fHYme9F915XvA1c1tNE8xL1L0qvRJmacdLWhhNnJoTbuxyFyi4VEu6vhk6vaGV/F+HPsx9Kg9XbvrO1P69noVMq9vk06bOKjOFff6gQ4+a6pe317L9bElKzj4ySunc3t90+rKAvH012FHqpg57lw92Iz/ZiJt2Ndbajs62R7C/ePj4hIUbB4WyhVqlTBvkaB1m7Qxai3GDVuHeGT32FkQxMXzl/A7BtIydItaRn+CpvXH2NEZE0sF7ezenMKLR9rjm/p+Bz3eV//Ja8RHBJCcEiBdE3kH8HklYjru30ICgqkTFk/t8oHp1iBtKztsuXKuN0GszkRMl1tCAwKoExZf7fKh1z8cxvCMLs7ms1GUGI6kA6AF16UKete3wLPpwGuL4pMXia3ywN4eSVcPjwEBxf+8SntbQNSrmyXLkmZ0u5dloL+uBJHkyl/cTCZEsF+6TwNdD8O2UlKsQPJWdslS5agTFn3rkIBsalABgAWs5kyZd0bEFx9fLzwytf7x2JOAlyTr4AA998/gfFXzlNzPo7POauDbj9euQv4WkM/OpZx92ouIlI8FeOJWAb7vlnKzrPHiZrQk+WX/mppNIHfl49i0JT7+X7c/fT7qT5BsXs532wqs/uEYrKUynlfkfZHRERE3JHphJ2J9qzthMxi/BCPiIibivFEzIeW0zZyYFr2e0veNIlPN97LoYNx2MMiqF0lBNfDD6Zc9olIXp1Jd/DGkSuP5o6s4UvVAH2dISIiIuIJxXgidn2mwIrUblrR7X0icn3xVif/d/DKRKxPeW9NxEREREQ8RKMqERERERGRQqaJmIiIiIiISCHTRExERERERKSQaSImIiIiIiJSyDQRExERERERKWSaiImIiIiIiBQyTcREREREREQKmSZiIiIiIiIihUwTMRERERERkUKmiZiIiIiIiEgh00RMRERERESkkGkiJiIiIiIiUsgsRd0AERERkYIy95iVmHQHAE1KmOlb0aeIWyQi4qKJmIiIiNyw5p3IYNsFOwCDqnhrIiYixYYeTRQRERERESlkmoiJiIiIiIgUMj2aKHKDWnkmkySbE4DaQSaaltTbXURERKS40MhM5AY1bncaB1NcP1B/LMJHEzERkXw4a3WwP9mRtd2utBmLyasIWyQiNwqNzERERERysP6sjX/9kpq1/UefEEr5aCImIsbpN2IiIiIiIiKF7Ia9I2aP+4mP3vqE7w4n41elDf0feZAuVX2LulnyDxF1wcaPf7jSJfuaYEQNnXsiIiIicsWNORGz/sabD4znpzbTmDqtPCcW/ofHH7rI3GVP0Ezj4WJjR4KNvUmu5+6DLHDnDbS2y7p4G1P2pQMQbHF/IrY3yc69v1zM2l7YMpB6IWaPtlFERIrOviQ7P/1hA1yPJw2rrgGKyD/NDTkRs/68mC8vdGXGhN409oPGEx9kXYeXWR41lmbt9EFXXCyKyeTlQ1YAqgeYbqiJmFEXbU5+S7ry4/BUu7MIWyMiIp62/qyNMbvSgPxPxA4m27Oy45by9iIiSF/Yifyd3IATMTux+w+QWLUvtS6P6wMjqVnpPDuOJuNo5+vWD+NOnDjB3j17CqKh/3ix0RkEn3Z9G2j29WKlzb+IW+Q5x09nEhydCYC/GVaaAtwqf+Sig+C96VnbWzL9iA907yedXrvTCE5zXaDPnLawMtq9ie7JVAfBe6604RerH4nB7rXBd0cqwa5DzImz3qw84u1W+UPxNoKPZ2Rtr/RxL44A3jtTCb5URUy8hZXH3IvDgXgbgVe1YZV3AJ5ImHb0qnPExwQrLe71LfpUJsGnLpX3hpW4H5vAnal4X5rvH/3Dm5UH3Tw+cTaCT+T/+Bz703m+NdOPc26e5ydiMwmOccXBzwIrvdyPg9/V5+k598/T7MRbHQT/dqVv29N8sZVwb5AcfzyD4HhXw5z+Xqy0uvcZefXx8fLK3/vHa1cawemuz5HTZ9z/HPnL57zdvT4kZDoJ3pmWtb3roi8+pdyLY+a+dIIvZZA9H2NhZZx7fdh73kbwkSvn+XqTPwEW4x8Ch686PqZ8Hp/nD6SzO9HVt9alzYyrqS+bRTyte48eWCwFM2XycjqdN9hX7RnsnNGHQUdGsmXu3a6hiSOG9wZ2Z02XVSwaUQ13PsK/WbGCd995p4DaKiLFncPp+t9lFqU4EhER+cdY/PnnBAS4/0VJXtyAd8RMWCwWnDY79st/cjpw2L3w8fHG3e+w+tx6K31uvdXDbRQRERERkX+yG/C7XRNly5bG61wcZy7PxOynOXM+gAqVQm/EDouIiIiIyN/MDTgvMVG6ZUvCj29m41HXc+kXo1bz3cVW3NLc+HP/IiIiIiIiRt2AvxEDHAn8NHMYE7/MpHb9IGL3/kHjyXN44c5qN+KzmCIiIiIi8jdzY07EAHBwMfYgh844CI2oTRU3s1WJiIiIiIgUlBt4IiYiIiIiIlI8madPnz69qBtRfNnIyACz+dpci/bYHWw+7KRGhWA36rrI5plT2BjYiablr3N3zhFP1NfrOOZbhaolDSxybI1j59qlLF22ig0/RrH/RAJepSpQIcSdOj0ZA7i48VWmbgigY7PyuS8j4KkYAGAlbsdavlqynFXrf2THvhMkeJWiQsUQimoJ6TzHIRuOhL2sWrCQJWt+5uAFf6rWLE/AdX/tWfxiwMVNvDZ5A4GdmlLOzSDkLwYZJERHk+gdQpC3F9jOsn35QpZuPkhqiRpUDy2aSFgTz5FqCsA3PzftHQnsXbmQRV+uYcuBC/hXrUn56weCjIRoohO9CQnyxgsbZ6OWs2jJZg5eLEn1GqWL5JwwFAccWJOSyfT2xTuPqXGNxyCVU1HrWbliBWvWbOD7LVHsP5kApSpSMSSfv0e2JnL+ookAv/w/weGwJpGS6Y1v3gNBdHQi3iFBeHuBLX47Xy9YwvcHUylRozqlrxsIT8TBs9cZ92LgIP7XFXx71JcqVUsaOvdTY6LY8M0KVq5ey8bvtrB9/0kSKEXFiiHkORKuQFyb4dkey85Nh3FUrYBbSzk6rCQnZ+Lte/2M0Y74X/lm3VF8qlTF6CXXGreDdUuW8vXK9fy0fS8nL5goVbEC7g09MsjAzLWnhJ3YHZs44qxKeXcC4ca1xlNxKHYxcGcMmi0HCXtWsmjBEtb+fIAE/6pElA+4fqIJj4xDPcloHDxPd8Sylca++ZN5YuYqfk/2pXzDbtw/fgJD2lfCB0hb8hBtV/Vk59y7si1tj9nE/C93kuC4+q8Z/P71As40HUzHyiYsET0YfXvd7F8+YwvPdh3EwvgS1OlxHw+NHEyPuiXdGrA74tfx3JAJLD4TRp3IstiO7ybWUhouWAnv9xQznrydcL+CiwH2GDZ//CU7E649vTJ//5qFp5tyf6fKmCwR9Hj4Nupk98M9D8TgUiD49pkhTFwcR1idSMrajrPnlIXSXMAa3o8nX36S2yIKcAFMo3HAyrZZk9jW9GUeaeeLI3Y5EwdMYoNXPRrV8OPCgd2cjRjDvPcfokFOx7OoY4CdUxs/ZsnORK55S2TuZ8X8MzQZ3InKJjMRPR/m1rrZBcEDMbDHsHzSIJ5ceowMv+r0mv4qfbaPZ8JqiKjqxamYEtz/3kLGNCvARcWtx1n9xkwWRiVRsfPDTBwUxobHR/D810dJ869Bl4mv8fKwxgTlVsXWt3lia1NeHNMWX0csX48bwBMbTNRtVAP/CwfYfTaCR95/nwcb5nQ87cR89ThDJi/leIYf1fpM55U+25k4bjVEVMXrVAwlBr/H/LFNKbBIGIxDxq8vMnBmCDM+eZhaFnCcWc9LY6fy8ZY4HMHVaTd4Gs+N60TFHD8sjMfAkbCVd0Y/xqxfM6gQUY2yJYPxdaaTcOYYh2O9aDTsZV6f1IGyOY5SrBxf9QavzY8iuVJnHpo0mLANk3j42RUcS/OnercJvDpzGI1yOxkyfuXl/jMJfukTRta2gOMMG2aM5emPthJnD6bazYN5+oWxdMw5ENijlzF50GS+OpaBX/XeTHv1VnaMH8caIqjidYpTJQYxZ9FYmuYQCONxMHid8UAMIIOt/+nGkAXxlKjbnXtHjuT+nnUp6dYFN4Ftsx5h3Fu/kFE+gmrlShHk6yT9whmOHT6FqfEwZrw5iQ45B4K0vQt4ctJMVu9PxrdCA7oOGs/4Ye2p6AoEI1utpse2OfTN9lhkEPXiAF4LfpEPR9XGgoMz619kwpMfsjXOQVD1mxg07QUe61wxx2toxpbp9Lx/AfEl69LtvhGMGNyTOm4FAcBB/LpnGT5+EXFhdalZNpMTu2Mxl4YEazh3P/USk++IINerTdo+Fk6eyGsrfyfZtwINut3P2InDuLmSD5DG0gdbs6bXVmbflV0gjF5rPBGHoo6BB8agANatvDNpK01eGkNbPwexy8bzr8c3YKrbiOr+f3Bw11nCH3ufeQ81zLEvxsehxngkDoVAuSuyYTvwHk+/tI/aE+fybH0zJ3/6nHlj+/PzsP/x2sMtc38DAfYzP/DJm5/ibN6aWiEmHE4nYONMciaJx/axL9ELi6VN7pWY6zHyvScou242M+/5kDfbDuSBEcO4rVmZPHxjl8GOuS+xscY0VizpR7gf2GMW8ciEaAZ/2JhNk5/iwWn+fDajG6E5XBeMxgD7GX78+C0+czanVa0QTA4nTsB2OpnMxGPs35uIl8VCazs5n4WGYnApEjvm8cqGcKatXMpdEb5gj2HxqInEDPmARhumMG3YNPyX/B9dcwqEI45fvlrL/mRH9vsBzFW4eWBnwrPrh+E4eOGM38OmqJM83C6ck8s+4odqT/DF+8Oo6Quk7mbW/Q8ya2V/3rmrVPGMAXbO/PgJsxY7adY6khCTE6cTsJ8mJTORE/v2kuRlwdImpyB4IAa/vMdb+9ry4toltOdbpj8yhCdSbuGFVa9zW0WIWTySQXNWM2Z23wKLwbH5U5jyhZPefeuTsPRxxkdV4uS5jjyz+FUqxnzBC88/zfutlzCmfs4fy17OePZsjOLk6LaEn1jGJz9U5/El7zEk0hdIZc+bgxjx1jc8+G5OA9dfeP/NfbR5ZQ1ftIcN0x5l+OMptJ+xklfvqAjRixl17xzWDHmHO0tmGwjitn3Fuv3J5BwJC1VuvodOEdm+IYzHwZZGUrLPpXUik1j/8lS+sPbmucV3UD15K+8/P5Enwr7kkyHVCygGGex+dzqLfYYx/8dhNAu7up0OkvYv4dlHnuLVFquZ0SUw2ybYjy7gqSe+xNG7L/UTvmLK2CgqnThPx+cWMbNiDF/+9wWmzWvDV2Pr5RRkwEZaUgrel5ZpSf72FZ7+zErP5xdxR41kts57gccnhvLZJ0Oonu04MoNf33uDfW1fZuXSW+DbaTw2ZBIpHWbw9eu3U5EYPh1xL/NWD2FW3+wCYTwOhq8zhmNwmZm6o+Yxqey3zHnpHj76X1sGPDiSoXc0pUweLjYZu97lmYXeDFn4I0Obh13zKeZI3M/S6Y/wn1dasOmlLjl04wDvT32R/bUnMfu5+lhO/sgXc8Zxz0/DeO2NkbTIw/dkttQkUi4HIulbZj75Gdbez7PgznCSt87j/yZOInTJxwzOJRCmeqOY80RZvp39Mv/64A3aDHyQh4bdTtOyebziZuzg/Rc3UOM/K/miXwS+2Dm1aBSToofyXqMNTH16ONMDvuT5bjktJWTj4LypvLy3DhPmPk89ywl+/nwO4/v9zNA3/seIltcdfRm81nggDkUeAw+NQb2cnN29ke3Ro2kbfoKvP/qBak8sYe6wmrguu28y5IG3WNn/Xfpme9k1Og41eq3xUBwKgSZi2cjYv5tjTYbw7n0dCDNB0+Y3073n50wd+QgPpb3O6zVyL+/TYhxvv2Tlydd+wafrf5k2vCWhpkQ+HXYrv90/ixc65eXugxeWMq349/S29BsVxdI5s3hnSBdmNerLkIcfpP9NlXP5xtpOTHQaLe6+LevbBnOF1jRxfspW23gef8dK7J1vs/hwJ0bXyuFbIYMxwKcFj81+Eevk1/nFpyvPTh9GizATiYuHc8eO+3nzxY55uMgaicGlSESfJLXV3fS5fMfHXIHWTZx8tsXG2CnvYI29k3cWHqbro7Wyr8AWy4a3n+NzWy0q5/TttE8bqvTLYQBuOA4+NLilBWdnfsnO4RMJSLMRflNHalwuFFCXDm3D2BAdD2Q/CSnyGOBD83Hv8H/WybyxzZcuz/2HoS3DMCUu5sE+O7nv7Rl0yDUIxmNgO30aWg6ia2RJfLmNAa1nscdnMD0ufVNeoW1zyi8+kXMTDMfAyq5t+2k0ei3/HVQW58By/LvXp/Sc/xF3NveB1rV49OcuzPn+FGPqV8s5Eg3b0+LsTJbsHMYE/3Qyw2+iQ3hWIKjTsQ1h66Nz6cdpztCC+7tFUtIX+gxszaw93gzqdemb8optaV7hU06ctkHJ7Dpi4/T6t3nhUzu1cg4Erav0y+Hi6Jk4XKluF99vC6Hf/yZzVzMfoDER6bvotXADDBlWQDGwc+JYIq3uGfynyQeAiZC6dzK414dM3xMDXWrn0Oyt7G80mlUv3E9Z5z2Uvac3n/f6hPf7NseH1kSO/Znus7+DXCdi19TIru+2ETLgfzzRryk+QKOa6ezutpBNZwYxpFJ2Ix0bp89Ai0HdiCzpC7cNpPVbu/Ee3PPS3cQKtGlRgc+Onwaym4gZj4Ph64zhGFzhZSlDq/v+Q9sBDxO1ZA7vvD2Ybm82pu/wkQwfcBOVc7nY2I8fJ6n1QAb9aRIGYCpRlzuG9uLjaXuAHCZiGfvZc7Qpg+feS4cyJmjWjJt69OSLySMZMyyVmW+5FQisu77j15ABvDqlH019gMb/R/pv3Vm84QyDh1XKJQhmwlrfy7R2/RkZtYR5b73NsC5v0qjvMEY8OIB2Va5zxbVHczKtFXfdevmOj5nyrZvgXLwF+/jJzLLGcteshRzu9CjZDz0y2L/nKE2GzuHfHctgoinNbu5B98+mMHr0cNJef5Mcvl65xOi1xgNxKPIYeGgM6tOQm1ue5bUvdjJ0kj9ptnDadazBlctuR9qEbSAm3galsv+cNDa6X6QVAAAaC0lEQVQONXqt8dRYvODdgOuIGWcuFUrJTCvWq/7mH9mflz95llrrxjHqkyO5zNABAql1139ZsHAiVTdNZMDwN/jxjC3f7fEp25x7nnqf1es/YnT90yx4uDtd73mTqIycSnhTp24Y25d/w/F0119SD33L90f9CQkyYSrbhZ4tThP1a0KOr2k8BhBY+y6eWbyQCdU28Xi/4bz1wxnyGwX3Y+DiXacuYVHLWXn8Uk9SD/Htd0cJCAnGZCpD597NORP1ay4v3Ij+9zSjZJOHeW/513y1Ipv/LZlKp1xurxuNQ2DHETwYtpTHx88npVVHLL9s5NilftviNrF4TQLhdXK+uBaHGBBYm77/Xcwnk6qyeUJ/HnzjB9x5SxiNgU9kbQK3LWdTdAoJuxcwb+05zm9ZSVSCA8ggevPPRIdWKMAYmAkMCsTH1xsTYK5Qj1plq1I93Cdrf8lSQdgyrDlVcDkQPPRQGZaNn8CClJZ0sGxj49GsQLB50VouROTymIVPLWoF/sLXG6JJSdjNojlrOX9uK6t+TcABZERvZsvJUCqUyenS4EPDAQNpVqoJIz5aln0cVnzJlM45XeA8Ewfn2a18Nm8By9ZvJya9GpE1r3xT7V+pEiVTkwo0BvWbVWHbB2+yMTrtT/tsnP9tMXO+/oPwOjmfT+bAYAJ8fPB2BYF6tctSJTw8606/uVQpgmzX+XBzBYJfFs9j4Vfr2RGTTtXIiCtPC/hXpmKpNJJyvIvrQ2StIH5ZtpHolAT2LJjDunPn2bbyV9ejPBnRfPfzSUIrlim4OHjgOmMsBtl1qyzNBz7FvHXr+fDR+pz+5GF6dRzIrF9zPh4+DZpSeesHzNoQzV8icf43Pp29gj/Cc3lfmksRWjKD9GsDQb9XP2F6nW+ZOGI+R+zXa7iTs9s+5f35X7Fhewzp1SK58rbwp1KlUqQmJV+vkss9omzzgTz5wVrWffwo9U5/wujunfj3m7lcJwC861A3LIqvVx6/dExTOfzt9xwNCCHIZKJM1140Px3F9oScjoeZUqVLknltIIgcMJMPn63Dt+NGsuB6gTB4rblWPuJQHGLgkTFoIB1GjCBs6QQmzU+hZUczv2w4hutdYCNu02LWJURQu1JO93OMjkONXms8FYeCpzti2fBt1Y+eL/+Xz/fdx9gGVy7w5oo9eOY9O08NGsfBnK5NV9dTpSsTPm5M+3lPM+2eBwjEQfbfC+aNpUxT7p4yhzsf2sXXn+zCnuOv+yzUHvIkfUeO4c6b36JqOS/ijsQTes//uL2SCfClZtsuRAblfGHxVAzwrUyXSR/R+JZ5TJs6kBFBYDcQhLzH4NK/rzOUKXeNYOxtNzOrallMcUeJD72H1+6oiAnwjWxLp8jcfohhJvzeyYz6+BQXbJDvfA5G4mCO4N9vzsY29XFGPpyMvzmBgb3X0aDMRY7uPo5/rxd4r2vOfSg2McCXyl0n8UHjW3j/6ae494EgcOQxCEZjUG8QEzo/wNiODUkwl6XNo3N4M2MGY7p2o1K5TE4c8+XuuX1ya4DBGPjSoksrXl35Pef7306ob0smfV4f7xKXdttPsi0qlZqjKl8vEITf9wZv255i8oOjSPY3k9C/D+sbhnHx6B6O+/fkuQ9y+NYdwFKX+yd1YsSjnWiSYKZs20d55+0MXhrdjZ6VypF58hi+/ebQOyzn7+jMEf/m8dEfc+qP/ATCeBws4bcxenhJDp7Yzpqfo/kjtBo+WZ8DDs7u2kNytX8XYAzMRAx+nnGHxjC+84cEVIugaplgvEkj4dQxDp/xpukDL/Jat5Cco9CyM61eWcUP5/tzW6gvLR7/nHo+WUHg5JbtXIx8OOc+AFgi6PPoMEr8foIdq38m+lwo1a46HI7439ibVJV/Vc7pMm+h7uCJdHpgDF0bJGAu25bRc2aRMeMRenSrRPmMExzz7cfsPmEFFwej1xnDMcit7jI06T+Z2Xc9yO7ln7Arl4uNueZg/jvhEGPHduEj/2qEVytDsLeT9IRYjh0+g3fT4fzfG11zfi3fVtzV+xVe+Gw/946vf2Uiaa5I9//Owz5lMBNyDwThtz/CkO8OcHL7arZEn6d0dR+uvC3i2bUniar3Xu/z5a/1hjXtxxNz+/LAruUs+O06EwBLHQZP7cuoR2/nljerUM4Uz9G4UAa8cTsVXRcb2nSJJOehhy8t+/Xm1ec+Z//946h/JRBU7Pkscx1PMmTcAa4/9DBwrcm+Y3mPQ7GJgfExqDniXl5/N5Npkx5idLI/loT+3P5tQ8JSjrLnuB89XviQLjledo2PQ41da67w9Fjc05SsIwfW1DQsAf7Z/rDVFv0TXx8qR9/OEXmuL2nPYl6asYpyY+fyaIvrnFCOJE7sjsa7Vn0qGvnFvCOBg99v5tfjFwmpewtdWl3/Ub6reToGJO7l0xdnsKbcY8x+rEXuv/PyVAxclZFw8Hu+23ac1BJ1ublrq1wfMylw7sThGnYuHPyBjd/v4nh8CvaActRu251ueTquxSwGJLF38Yu8tKosY+Y+RvM8B8FIDMB6PoYLlgqUL2EGkji4bhnrD2RS5ZY76N0op2f2PcWGzW7Bkt0bypHAgc0H8G3fmup5HDPaLxzkxw0/sPtYPMl2f8rXbku3Hq2olJdApJ/nVII35cuHYAaSD65j2bqD2Kq257Y+jXL87ahneDYOf6qAxAPfsc/UlraR13nsxHAM7CQe3sp3P/3G0bgkMk0BlK5cm2bt29MkDx9aNpsdS/ZBIOH37zjodzOt8hcEVy2JB/h+r5k27Wpe5/FnK+djLuBdoTwhZiDpIN9+9S0HbVVof0cfGl43EMbi4PHrzFXyFgMHySd2c9JSi/p5evPkzJ54hG2bfuS3o3EkZ5oJKF2ZWs1v5uamFa//+WRNJc0SgH+2gYjh5+WHKHd7pxwefb4ORyIHN+/F1LYdNXO4a+9IOsGekxYiG1QynKjHkXCQHzb9wvHUEOq270rL6z3SeA0rqWkWArIPBDE/LedwudvpmMPjaH/l3rXGU3EoXjFwcwz6Z/YLHPxhAz/uOk58so2A8nVo0707LfMyiDA4DvU0Q3EoIJqI5cpGRoYJH59rL0T22B18F1eOTk0rFnB5Vypbk4/PtQNEeyw7N8dRtkPTXDKDZVVAhsmHa5tgJ3bHZuLLdaDJdSv4E2si59P9CS2R3xPYSuI5K/5h+U2bbrT85WqM9ePixleZfrQLzw9vnK92GC3PxU289vRRuswYRqP8VcDmmdM42vX/GNo4fzFwWJO46Agi2D+fo3aHleQUB4Eh/vmbABktjwNrUgqOoBDc74KDhD2rWLpuN/HOMtTvfAe9moS5l9k0YS+rv1zH7ngnZep34o4+TQh1fy0D9q5awre74nGWqU+nO3vTOMy9DF/u9cNB/K/f8HN6Q7reXJ3sUzDk/nrGyrvSS6/8KZ0G3W6mev4qIGrFT6Q36sZN+argkowEomOthFYtR4DJlfb9m69+Jj64Pp1u60jN3G4yuyogIToWa2hVygWYXMsprPiKLXFB1O98Gx1yvUt9dTOiibWGUrVcACZsnI1awbKf4wiq34VbO9XMNQunR/phjWPn+rX8vO8USU5/SleqTfNb2tOscl5jayVux3rW/bSfU0kOAkpXolaLW7i5eeU8nx/WuB1sWPMz+08l4QwoRaVaLWl/SzMquXN4DffDlb7++++jOBBznlSbhYDQytRu3p72zSsTkLcKiNr8PdsPxHD+oh3vwNJUqt2c9h2aUylvFXAq6ju+j/qdU+dSsXkHULpyHZq1v4XmlfNUgfE+eKQfAnhg/GZ8DOpqRvEah1oTz2H1D3NvKYBrKzA4jvUsTcSyZTClruHyRlPZYjj9qSfSK1uPr+KtVxawPbkiHUdOYlDYBp4Y8V++OZqGf42ujH99JkMa51yB0fIe6YfR9POG09cbT8drfDkFoymijaZW9kBqZqMpzw2n8vVACn48kL7ecD+Mpvo2nirccHppDyyNYTTtu2eWUzCeht9w+nqj6akNL63hgVThHumH0fT1DhK2zmLMmLf4NaMCEdXLUTLIF2f6Bc4cO0ysV2OGvvwGEzqWzfFLJ8NLCXggBb8n+iF4YPxmfAwKxWAcanjJFw8sE1II9BuxbBhNqWs4Ja/hVLYeSH9qNL2y/SgLpzzBEkcf7miQwLLHx7G98gnOd/ovC16rSMwXzzHjqXm0WjqWetlOYAyW91g/DKafN5y+3ng6XuMpXI2niDaaWtlwamajKc8Np/I1noLf1QyD6esN9wOMpvo2Xt4DabYNLg9iLO27B5ZTcFViOA2/0fT1RpdJMby0huFU4R7qh9H09Rm7mPufRXgPX8T3w5oRek0FSfz+5XTGPPUKzde8ROdsb9AZX0rAcB880g+jKcuNpzx3xG1j2Zr9JOdyi8JS5Wb+ndPjsoaXOjE+fjO+LATFYBxqfKkTzywTUvA0EcuG0ZS6hlPyGk5lazz9qeH0ytZdbNvXmIfXPc99ZZ0MKDeQ2z7txYcf9aW5D7Sq9RhbOr/LD6cepV61bAbPRst7qh9G0897IH290XS8nk3haixFNBhIreyh8vlKeW44la/xFPyuZhhMX2+4Hy5GUn17orzhNNuGlsYwmvbdA8spuCoxvhSBwfT1RpdJMby0huFU4R7qh9H09fYTHE9szT2D/jR5ATCFUKfvEHp++B/2xtjoXLtgllQw3AeP9MNoynLjKc9tsRuY/dyn2GpVJjinGtpWyXkiZnipE+PjN48sC1Hk41DjS514fpmQgqG7w9kwmlLXcEpew6lsjac/NZxe2RRIUKAPPq4KqFCvFmWr1uBKlupSlAqykWOWaqPlPdUPPJB+3mgaf8PpeD2QwtVwimijqZWNp2Y2lPLccCpf4yn4L1ViLH29B/pxjXyk+vZo+fym2b6mCe4ujWE07bsHllMAj6ThN9YP48ukGF5aw3CqcM/0w3D6ep8GNKmylQ/f2sBfVwI4z65F7/LNH+HUrpDT+9L4UgKG++ChfhhLWW485blPo/4MaF6KJqM+ZEm25b/ms6mdc4mB8aVODI/fPLEsRJGPQ40vdeKxZUIKmO6IZcNoSl3DKXkNp7I1nv7UcHplv5Z0bjWT1d+dp98dofi2fILF9b3JquHEVnak1mRE5RzuZhkt76l+ZFVkMA2/4TT+xtPx5juFqwfSZBtLrWw8NbPhlOcYTeWL4RT8lyoxlr7eE/3IjhupvgukvLtptrNtQt6XBzGW9t0TyynggTT8RvthPD214aU1DKcK90w/DKevN0cw6PnxHB4zlu4fBFAtohphwd6QdoHYY4c5492UYS++QdccVwIwvpSA4T54pB/GU5YbTnlujuBfk0cx/9QFbITmI5mW8aVODI/fPLH8UJGPQ40vdeKx8V8BU7KOHBhNqWs4Ja/hVLbG058aTq9ss2G3WLKNgSPhd74/4MdNravn/G2A0fKe6sef5Tv9vIfK5zv1+1U1eDCFa97TZOdYwXVTKxdoeXdSnoOxVL6uCgyl4L/SDAPp6/PdD6Opvo2nCjecXtpjS2MYTfvuoeUUDKfhN9gPw+mpjS+tYSxVeFYlhtNsG0pf76qAI1s389POo8QnZ2AKCKVy7Wbc1L5pHs9VY0sJeKQPHunHP53x8ZtHloUo8nGo8aVOCnqZEE/QRExERETEsBthyZobJOV5MYhDkcdAx/JyBR6JQ0HRb8RERERE8i2NffMf47am9ahfrzHt+45nzvenuPwwY8aWdxj39pbca9i7gHG9m9Gwdn2atevLxNnfE3ulAmY/9g5bc3vEMm0fCx/rTcu6dWjU6Cb6jZvND6eyKmDr22OZvSXXCgz3oVj0oxjEochjoGPp0TgUNP1GLBtG05cWffrTGyCFq+EYXK7m796PG+BYKiWxR/rgasbfvR86lh7pg6sSHUuPXCeM9+NGWLLmxkh5XgziUOQx0LH0aBwKgSZi2TCavrTo05/eAClcDcfgRunHDXAslZLYI324MfqhY+mRPhSLfhSDOHjkOmG8HzfCkjU3RsrzYhCHIo+BjqVH41AYnPJXtsPOeQM7Ocd/c85pL4ryTpvzyJyBzi6PfeM8l78KnLbDc533dhzrXJn/Coq4D8Zj4Krm79+Pv/+xNN4HxSCrkr99P3QsnR7og9NZHPpR9HHwzHXCaD/SN01xdhr4njPmT8Vtp1Y7p3Zv7bzjjs7Ohg98mVsFzqntBzrfj/5LBc41U3o42916p7Nr3QedS1JzrMC5efItznvnRf8pjjbnqVVPOnu1us15V6d6zhFf5liB8T4Ui34UgzgUeQx0LK90wQNxKAT6jVh2LqUvrc0F99Z78lT5y+lP68CF/FVwKYVrbfgj3xUUcR+Mx8BVzd+/H3//Y2m8D4pBViV/+37oWOKBPkBx6EfRx8Ez1wmj/fBt1Y+eyV/z+b5rf6/iShc+jbpJMbn3z7cVd/VO4ZvP9nNNDZdShT9VN4lTua7I4EoVnrLic/ZfW4ErVfh/6pJ0Kve+Ge5DsehHMYhDkcdAx/JKFzwQh0KgrIkiIiIiBtwIS9bcGCnPi0EcijwGOpZXuuCBOBQwTcREREREREQKmR5NFBERERERKWSaiImIiIiIiBQyTcREREREREQKmSZiIiIiIiIihUwTMRERERERkUKmiZiIiIiIiEgh00RMRERuCPbEaA4ciCHZ4XZBon8/wKkkdwuKiIjknyZiIiKSNxmxbJk/g0kP3Md9941gymvL2JdYiJOXjB28fnsTmvaYwS8Zf9nJzrcGc3ufh5i33+ZetTvfYmifWxkx93fcKykiIpJ/OS9HLSIiclnGIRaMvI9nN8RjDgunVjkn69+ZyM7M6qx6vHHhtMEcQqU6DWjoqEqJ7L5GdLr+z+l0s95LBZxuFxQREck/TcREROQ6HMQvfYlXNp4loM3jfPLewzQIhIuHVrLiZCiQwZlfV7Bs3XaOX3BSIrwdd/6rF3VKQNKe1aw4EEr7Ful8u2ANh6zlaXfPEG6tF5JLORNg5/zOZSxe/gsxGaWp3+tfDLipDA069yLT0ZhyJgAr0ZsXsHDNITKqdqJJ5tVtzq1usEZvZtH8tRzKqEKHJn+6D+ZIZP+qhSz78TjJvpVofvu/uaNpGObCCLWIiPxjeDn1FaCIiOQqia9G3MTEtf70m7eJGV0Crtlr2/safe/6gJTaDajmd4bffjmOd+/XWfVmb2JfvZX+cxMIC/yDJJsfmUnJ2MJ68vI3s7j13P9yKHc7vltfYMCQeRwvUZdm1TM4eLQBz20ayp677+bdzKEsXP0kNX94kr4PLeKk0w9/SyY2hxeZzpqM+uprxni9mWPdockbeeq2h1h80omfv5lMmxOvTCcRj3zFsonh7Hp1IEPfPERIw8aU+2M3v52ryoj5XzKxhX8RxV9ERG5E+o2YiIjkzn6W03HpYK5E9eq+f9ltqX4XL33zPeuXL+TDRbMZ3sBMwm+/cPDyHSprCmUHfszGHT/w3v01MJ3bxNcb/8ilXCLrP1rMIZozbvEy5n+2mlWfPUZLn6tfNZGNn67gpLMmQxduZccPHzG0rm+e2pS4YTErTjqpOXwBP+/+gQ+G1yWrZMoGPvp4D7SfyudfLeLThY/RzH6AZUt+LaDgiojIP5UeTRQRkeuwYDEDWElLz+YhCl9fLmx4iVFP7uLEuUTOx9qghI2sfBrmcrTq0oxQsw/N2zUiaH408bHx4Fs6+3K2kxw5noZXWB0aVHJdpkLDq4Nt15XXtJ3ieHQapjItad8kBItvS7q0Kst7+67XJhunjkWTbipDi1uaEGzxpUXXlpSZ6ypoO3mQYykOrDvf4t5Oc8GZyjm7A+eFhAKKrYiI/FNpIiYiIrkzl6dmRGm8oo6y9ceT2OuHX/V7KQexi59g1IwdRA5+mkldgvhpxhg+Pnt1BXZsdtd/pSQmYnWCn79fLuXMmMzgTL7AeSvw15tw4OWaHDrTUrhoc/0bW6YNJ77XaZMXFosFnGmkZBW0Yb80v/TytmDGi+CWQ3n2gUaufnp5EVS5oWdjKiIi/3iaiImIyHX40m5AX2oufZeoN0Yx0TqMLjVMxO9cx9bAYTxiO0M6wVRr0oSqrGN+nOPaB9/tJ/l82hOUGdKAw+/9TLq5Mo2bl+f85hzKWarTuH4oXns3Mee5D3G0yWTb12fo8OYdV+o0V6F+3VC89mzmg5kLSSsfxXtfxOCgNuDg/Omc2mSmSoO6hHrt4bv3ZrI4rTxRc78gxgG1AHOVpjQs58Xe33/jhG9vulXKIGbHVmKCm9CgcmHGXEREbnT6jZiIiFyXb4vH+N8LA6jvc4SvZz7B2Ecm8cInu/AKC6P2rQNoHRrPV491p9fIr3DUqIDF24esn3R5laSS5VfemPwcSw9biBw4mQdaBORSLoBbHp3K3ZFe7P/sGcaPn8GKeH9KmXzw8TFh8vXFx+RP+xFj6Voxje3vT+Xx13cR2bsNpcze+Hhbcm2T/y0PMaZ7RdKiPuCpCf9jd61etC5lwtvHAn7tGD19MA3T1jLtrva0bd2F/o++wabozFyiIyIi4j5lTRQRkbzLOM/xAyc4bw+kQnhNKoa4HlJ0XDzD4cPxeFetR41Slx+2sLH7lVvp/04mQz5bypDAI5z1qU7d8FJZj2NkX+4SexLR+w9z1lSWWrUrE5Rd/vi0OA7+fhpzlXpEhF2TzSP3ukkj7sDvnDFXoW7NMHz+tJf0sxw5cJIEgqlQI5yKIXqAREREPEsTMRERKSBXT8RWMbn5X6Y7IiIi/1j6ik9ERAqIifKt7+beFDttK+tyIyIicjXdERMRERERESlkStYhIiIiIiJSyDQRExERERERKWSaiImIiIiIiBQyTcREREREREQKmSZiIiIiIiIihUwTMRERERERkUKmiZiIiIiIiEgh+390/SbxYpzT1AAAAABJRU5ErkJggg==)"
      ],
      "metadata": {
        "id": "n7Sfgelf662b"
      }
    },
    {
      "cell_type": "markdown",
      "source": [
        "É possível afirmar que ao conectarmo-nos a um servidor dessa amostra, ao acaso, há aproximadamente:\n",
        "\n",
        "A-) 34,13% de chance que sua capacidade esteja no intervalo [141, 201].\n",
        "\n",
        "B-) 34,13% de chance que sua capacidade esteja no intervalo [161, 181].\n",
        "\n",
        "C-) 76,68% de chance que sua capacidade esteja no intervalo [171, 191].\n",
        "\n",
        "D-) 95,44% de chance que sua capacidade esteja no intervalo [151, 191].\n",
        "\n",
        "E-) 99,74% de chance que sua capacidade esteja no intervalo [161, 181].\n",
        "\n",
        "Alternativa correta: "
      ],
      "metadata": {
        "id": "nUO7lFSO7mcE"
      }
    },
    {
      "cell_type": "markdown",
      "source": [
        "---\n",
        "\n",
        "#**Questão 5**  *(2 pontos)*\n",
        "\n",
        "---"
      ],
      "metadata": {
        "id": "VdeTuwp5q2_O"
      }
    },
    {
      "cell_type": "markdown",
      "source": [
        "O tempo de instalação de um software tem distribuição normal com média de 6 minutos e variância de 4 minutos.\n",
        "\n",
        "#Calcule os itens abaixo:\n"
      ],
      "metadata": {
        "id": "5EgCD85uq5om"
      }
    },
    {
      "cell_type": "markdown",
      "source": [
        "a-) A probabilidade de que um software leve\n",
        "entre 5 e 7 minutos para ser instalado."
      ],
      "metadata": {
        "id": "Jpb3EgMns7e5"
      }
    },
    {
      "cell_type": "code",
      "source": [],
      "metadata": {
        "id": "Wit84HHitWsS"
      },
      "execution_count": null,
      "outputs": []
    },
    {
      "cell_type": "markdown",
      "source": [
        "b-) A probabilidade de que um software leve mais que 6,5 minutos para ser instalado."
      ],
      "metadata": {
        "id": "OdHvobbitXMj"
      }
    },
    {
      "cell_type": "code",
      "source": [],
      "metadata": {
        "id": "eD1k0tfItmNg"
      },
      "execution_count": null,
      "outputs": []
    },
    {
      "cell_type": "markdown",
      "source": [
        "---\n",
        "\n",
        "#**Questão 6** *(3 pontos)*\n",
        "\n",
        "---"
      ],
      "metadata": {
        "id": "g9uq8rpStw-y"
      }
    },
    {
      "cell_type": "markdown",
      "source": [
        "Em uma rede de computadores, em 40% dos dias ocorre alguma falha. Construir a distribuição de probabilidades para a variável aleatória **X = número de dias com falha na rede**, considerando o período de observação de 10 dias. Suponha que os eventos são independentes."
      ],
      "metadata": {
        "id": "9i7UG1povS1Q"
      }
    },
    {
      "cell_type": "code",
      "source": [],
      "metadata": {
        "id": "4CWLARWnE3-p"
      },
      "execution_count": null,
      "outputs": []
    }
  ]
}