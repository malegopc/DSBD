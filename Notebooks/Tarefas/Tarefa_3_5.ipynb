{
  "nbformat": 4,
  "nbformat_minor": 0,
  "metadata": {
    "colab": {
      "provenance": []
    },
    "kernelspec": {
      "name": "python3",
      "display_name": "Python 3"
    },
    "accelerator": "GPU"
  },
  "cells": [
    {
      "cell_type": "markdown",
      "metadata": {
        "id": "jZM3XREkvOba"
      },
      "source": [
        "---\n",
        "\n",
        "---\n",
        "## Tarefa 3.5 - Análise Exploratória e Estatística Descritiva - Visualização Gráfica\n",
        "\n",
        "Esta tarefa consiste em explorar por meio de métodos de descrição gráfica (visualização de dados) o conjunto de dados *Hourly Wages*.\n",
        "\n",
        "Você deve implementar em Python e responder os itens solicitados abaixo utilizando a biblioteca [Matplotlib](https://matplotlib.org/) e/ou [Seaborn](https://seaborn.pydata.org/) e outras que desejar ou forem necessárias. \n",
        "\n",
        "Exemplos dos gráficos solicitados estão nos links das bibliotecas acima e também no notebook [Visualização_gráfica.ipynb](https://colab.research.google.com/github/malegopc/DSBD/blob/main/Notebooks/Visualização_gráfica.ipynb).\n",
        "\n",
        "---\n",
        "\n",
        "\n",
        "\n",
        "---\n",
        "\n"
      ]
    },
    {
      "cell_type": "markdown",
      "metadata": {
        "id": "IPxitpXn5GFN"
      },
      "source": [
        "## Conjunto de dados *Hourly Wages*\n",
        "\n",
        "Esse conjunto de dados é popularmente empregado para a tarefa de regressão em Machine Learning. Constrói-se e ajusta-se um modelo de aprendizado de máquina para predizer/estimar o salário de um funcionário em função de suas características (anos de estudos, experiência de trabalho, filiação sindical, região, ocupação e sexo). \n",
        "\n",
        "- Número de Instâncias: 534\n",
        "\n",
        "- Número de Atributos: 9 atributos numéricos e o target (*wage_per_hour*)\n",
        "\n",
        "- Informações dos Atributos:\n",
        "  - union (filiação sindical)\n",
        "  - education_yrs (anos de instrução)\n",
        "  - experience_yrs (anos de experiência)\n",
        "  - age (idade)\n",
        "  - female (sexo)\n",
        "  - marr (estado civil - casado)\n",
        "  - south (região)\n",
        "  - manufacturing (indústria)\n",
        "  - construction (construção)\n",
        "\n",
        "  \n",
        "- Variável de destino (target): wage_per_hour \n",
        "\n"
      ]
    },
    {
      "cell_type": "markdown",
      "source": [
        "## Implementar os itens abaixo:"
      ],
      "metadata": {
        "id": "4B33fWHi7rrc"
      }
    },
    {
      "cell_type": "markdown",
      "metadata": {
        "id": "nufGipDieZbc"
      },
      "source": [
        "#### a-) Clonar o repositório de dados da disciplina (DSBD) hospedado no GitHUb.\n",
        "*Obs: Você pode ignorar este item caso realize a tarefa no Jupyter Notebook. O conjunto de dados Hourly Wages pode ser baixado [clicando aqui](https://raw.githubusercontent.com/malegopc/DSBD/main/Datasets/Hourly_wages/hourly_wages.csv)*.\n"
      ]
    },
    {
      "cell_type": "code",
      "metadata": {
        "id": "ZaJpoCYtejnr"
      },
      "source": [],
      "execution_count": null,
      "outputs": []
    },
    {
      "cell_type": "markdown",
      "metadata": {
        "id": "4G6UZT6QC_us"
      },
      "source": [
        "#### b-) Ler o dataset \"*Hourly_wages/hourly_wages.csv*\" como dataframe utilizando a biblioteca Pandas e mostrar as 5 primeiras e 5 últimas linhas."
      ]
    },
    {
      "cell_type": "code",
      "metadata": {
        "id": "jGSqUwVE7QvS"
      },
      "source": [],
      "execution_count": null,
      "outputs": []
    },
    {
      "cell_type": "markdown",
      "source": [
        "#### c-) Mostrar os histogramas dos atributos: *education_yrs*, *experience_yrs* e *age* num mesmo quadro de plotagem (usando *subplots*)."
      ],
      "metadata": {
        "id": "yY9KotjOEkh2"
      }
    },
    {
      "cell_type": "code",
      "source": [],
      "metadata": {
        "id": "s3d8c7phutxN"
      },
      "execution_count": null,
      "outputs": []
    },
    {
      "cell_type": "markdown",
      "metadata": {
        "id": "8Sao1JGYEP2R"
      },
      "source": [
        "#### d-) Mostrar os gráficos de setores (*pie chart*) de cada um dos atributos: *union*, *female*, *marr*, *south*, *manufacturing* e *construction* num mesmo quadro de plotagem (usando subplots)."
      ]
    },
    {
      "cell_type": "code",
      "metadata": {
        "id": "rRbFDx1iDCLq"
      },
      "source": [],
      "execution_count": null,
      "outputs": []
    },
    {
      "cell_type": "markdown",
      "metadata": {
        "id": "VccXvtXmOJy7"
      },
      "source": [
        "#### e-) Mostrar os boxplots das variáveis *education_yrs*, *experience_yrs* e *age* num mesmo quadro de plotagem (usando *subplots*)."
      ]
    },
    {
      "cell_type": "code",
      "metadata": {
        "id": "WHpUgIoROTpq"
      },
      "source": [],
      "execution_count": null,
      "outputs": []
    },
    {
      "cell_type": "markdown",
      "source": [
        "#### f-) Mostre lado a lado os boxplots da variável *age* discriminados por sexo (female). "
      ],
      "metadata": {
        "id": "6c2QQ18WB5Vb"
      }
    },
    {
      "cell_type": "code",
      "source": [],
      "metadata": {
        "id": "v2ME0aM2CIq8"
      },
      "execution_count": null,
      "outputs": []
    },
    {
      "cell_type": "markdown",
      "source": [
        "#### g-) Responda observando os boxplots construídos no item anterior: \n",
        "\n",
        "i-) Qual sexo apresenta maior variabilidade (dispersão) de idade? Resposta: \n",
        "\n",
        "ii-) Qual é aproximadamente o 2o. quartil das idades das mulheres? Resposta:\n",
        "\n",
        "iii-) Qual é aproximadamente o 1o. quartil das idades dos homens? Resposta:\n",
        "\n"
      ],
      "metadata": {
        "id": "oSbT_35-cNTe"
      }
    },
    {
      "cell_type": "markdown",
      "source": [
        "#### h-) Mostre lado a lado os boxplots da variável *wage_per_hour* discriminados por sexo (female). "
      ],
      "metadata": {
        "id": "YP4gk2Krehfs"
      }
    },
    {
      "cell_type": "code",
      "source": [],
      "metadata": {
        "id": "tARE8ePDeqcX"
      },
      "execution_count": null,
      "outputs": []
    },
    {
      "cell_type": "markdown",
      "source": [
        "#### i-) Análise comparativamente os boxplots do item anterior e comente as informações que podem ser exploradas a respeito dos salários por hora de homens e mulhores. Quais conclusões podemos obter?\n",
        "\n",
        "Resposta:"
      ],
      "metadata": {
        "id": "tkE63KqEe7oG"
      }
    },
    {
      "cell_type": "markdown",
      "source": [
        "#### j-) Mostre lado a lado os boxplots da variável wage_per_hour discriminados por estado civil (marr)."
      ],
      "metadata": {
        "id": "xoJJIY4m8csy"
      }
    },
    {
      "cell_type": "code",
      "source": [],
      "metadata": {
        "id": "7w-2XYR6-3tY"
      },
      "execution_count": null,
      "outputs": []
    },
    {
      "cell_type": "markdown",
      "source": [
        "#### k-) Análise comparativamente os boxplots do item anterior e comente as informações que podem ser exploradas a respeito dos salários por hora de casados e não casados. Quais conclusões podemos obter?\n",
        "\n",
        "Resposta:"
      ],
      "metadata": {
        "id": "UqcFb2rp_ZQO"
      }
    }
  ]
}