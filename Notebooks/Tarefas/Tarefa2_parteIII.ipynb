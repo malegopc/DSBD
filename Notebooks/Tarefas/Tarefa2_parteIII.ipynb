{
  "nbformat": 4,
  "nbformat_minor": 0,
  "metadata": {
    "colab": {
      "name": "Tarefa2_parteIII.ipynb",
      "provenance": []
    },
    "kernelspec": {
      "name": "python3",
      "display_name": "Python 3"
    },
    "language_info": {
      "name": "python"
    },
    "accelerator": "GPU"
  },
  "cells": [
    {
      "cell_type": "markdown",
      "metadata": {
        "id": "xpAuMVCwfWs8"
      },
      "source": [
        "\n",
        "---\n",
        "\n",
        "---\n",
        "# Manipulação de dataframe - TAREFA 2 - Parte III\n",
        "---\n",
        "\n",
        "---\n",
        "\n",
        "\n",
        "\n",
        "\n",
        "\n"
      ]
    },
    {
      "cell_type": "markdown",
      "source": [
        "##1-) Leitura dos dados\n",
        "\n",
        "A base de dados [Churn_Modelling](https://github.com/malegopc/DSBD/blob/main/Datasets/Churn/Churn_Modelling.csv) é utilizada para prever (classificar) quando um cliente irá parar de utilizar o serviço de um banco.\n",
        "\n",
        "Conjunto de dados (características):\n",
        "\n",
        "* Número de Instâncias: 10.000\n",
        "\n",
        "* Número de Atributos: 13 atributos (incluindo o target)\n",
        "\n",
        "* Informações dos Atributos:\n",
        "\n",
        "  1. RowNumber\n",
        "  2. CustomerId\n",
        "  3. Surname\n",
        "  4. CreditScore\n",
        "  5. Geography\n",
        "  6. Gender Age\n",
        "  7. Tenure\n",
        "  8. Balance\n",
        "  9. NumOfProducts\n",
        "  10. HasCrCard\n",
        "  11. IsActiveMember\n",
        "  12. EstimatedSalary\n",
        "  13. Exited (variável de destino - target)\n",
        "\n",
        "*Clone o repositório de dados da disciplina (https://github.com/malegopc/DSBD), faça a leitura do arquivo **Churn_Modelling.csv** disponível na pasta [Churn_Modelling](https://github.com/malegopc/DSBD/blob/main/Datasets/Churn) e armazene-o numa variável do tipo dataframe. Basta utilizar a função [pd.read_csv](https://pandas.pydata.org/docs/reference/api/pandas.read_csv.html) da biblioteca pandas.*"
      ],
      "metadata": {
        "id": "h4hWkVHS1Gz3"
      }
    },
    {
      "cell_type": "code",
      "metadata": {
        "id": "dCHnPAsh1Hi1"
      },
      "source": [],
      "execution_count": null,
      "outputs": []
    },
    {
      "cell_type": "markdown",
      "source": [
        "##2-) Visualização do dataframe\n",
        "\n",
        "*Mostre as 5 primeiras e as 5 últimas linhas do dataframe.*"
      ],
      "metadata": {
        "id": "qsZlHCY7Mox1"
      }
    },
    {
      "cell_type": "code",
      "source": [],
      "metadata": {
        "id": "CSIVkJNyM5U8"
      },
      "execution_count": null,
      "outputs": []
    },
    {
      "cell_type": "markdown",
      "source": [
        "##3-) Eliminação manual de variáveis\n",
        "\n",
        "*Elimine as variáveis (colunas): 'RowNumber', 'CustomerId' e 'Surname'.* "
      ],
      "metadata": {
        "id": "zT4SPkzz1QYr"
      }
    },
    {
      "cell_type": "code",
      "source": [],
      "metadata": {
        "id": "StISlxO2oUoh"
      },
      "execution_count": null,
      "outputs": []
    },
    {
      "cell_type": "markdown",
      "source": [
        "##4-) Dados ausentes\n",
        "\n",
        "*Verifique se há dados ausentes no dataframe.*"
      ],
      "metadata": {
        "id": "ztupOd_tJKDa"
      }
    },
    {
      "cell_type": "code",
      "source": [],
      "metadata": {
        "id": "-46W42g4Jt18"
      },
      "execution_count": null,
      "outputs": []
    },
    {
      "cell_type": "markdown",
      "source": [
        "## 5-) Separa as variáveis \n",
        "\n",
        "*Utilizando a função **[iloc](https://pandas.pydata.org/docs/reference/api/pandas.DataFrame.iloc.html?highlight=iloc#pandas.DataFrame.iloc)**, copie para uma variável \"X\" os valores de todas as variáveis (colunas) do dataframe, exceto os valores da variável \"Exited\".*\n",
        "\n",
        "*E copie para uma variável \"y\" somente os valores da variável \"Exited\".* "
      ],
      "metadata": {
        "id": "k4GgSA8-gGZm"
      }
    },
    {
      "cell_type": "code",
      "metadata": {
        "id": "LypJ6UWi1KgF"
      },
      "source": [],
      "execution_count": null,
      "outputs": []
    }
  ]
}