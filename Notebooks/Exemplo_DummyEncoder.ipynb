{
  "nbformat": 4,
  "nbformat_minor": 0,
  "metadata": {
    "colab": {
      "name": "Exemplo_DummyEncoder.ipynb",
      "provenance": []
    },
    "kernelspec": {
      "name": "python3",
      "display_name": "Python 3"
    }
  },
  "cells": [
    {
      "cell_type": "markdown",
      "metadata": {
        "id": "3JjPtt6rPrKl"
      },
      "source": [
        "## Exemplo de Dummy Variable Encoding usando a classe OneHot Encoder\n",
        "\n"
      ]
    },
    {
      "cell_type": "code",
      "metadata": {
        "id": "5N2P_z9jPqWc"
      },
      "source": [
        "from sklearn.preprocessing import OneHotEncoder\n",
        "import numpy as np\n",
        "X = np.array([['Red'], ['Green'], ['Blue']]) # variável categórica na forma de um array bidimensional (matriz)\n",
        "enc = OneHotEncoder(drop = 'first', sparse_output = False) # cria objeto especificando a remoção de um recurso de categoria\n",
        "enc.fit(X) # ajusta na variável de entrada\n",
        "X_encoder = enc.transform(X) # aplica a transformação na variável de entrada\n",
        "print(X_encoder)"
      ],
      "execution_count": null,
      "outputs": []
    },
    {
      "cell_type": "markdown",
      "metadata": {
        "id": "uy1kYIPDRuvL"
      },
      "source": [
        "###Transformação inversa"
      ]
    },
    {
      "cell_type": "code",
      "metadata": {
        "id": "GrJzApU-RxxC"
      },
      "source": [
        "print(enc.inverse_transform(X_encoder))"
      ],
      "execution_count": null,
      "outputs": []
    }
  ]
}