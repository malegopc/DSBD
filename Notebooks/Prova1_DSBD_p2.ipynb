{
  "nbformat": 4,
  "nbformat_minor": 0,
  "metadata": {
    "colab": {
      "provenance": []
    },
    "kernelspec": {
      "name": "python3",
      "display_name": "Python 3"
    },
    "language_info": {
      "name": "python"
    }
  },
  "cells": [
    {
      "cell_type": "markdown",
      "metadata": {
        "id": "xpAuMVCwfWs8"
      },
      "source": [
        "\n",
        "---\n",
        "\n",
        "---\n",
        "# PROVA 1 - DSBD - parte II\n",
        "\n",
        "Neste notebook constam as questões da **parte II** da Prova 1 da disciplina de *Data Science e Big Data*.\n",
        "\n",
        "* As questões devem ser respondidas nos espaços já alocados para suas respectivas respostas.\n",
        "\n",
        "* Os materiais da disciplina podem ser consultados.\n",
        "\n",
        "* **Não é permitido qualquer tipo de interação com outros(as) colegas de sala durante a realização da prova.**\n",
        "\n",
        "* **Você deve submeter esse notebook respondido/executado no link da tarefa do Canvas até às 20:40h** *(não esqueça que o tempo de duração da prova é também um critério de avaliação).*\n",
        "\n",
        "\n",
        "\n",
        "---\n",
        "\n",
        "---\n",
        "\n",
        "\n",
        "\n",
        "\n",
        "\n"
      ]
    },
    {
      "cell_type": "markdown",
      "source": [
        "---\n",
        "\n",
        "#**Questão 5**  *(3 pontos)*\n",
        "\n",
        "---"
      ],
      "metadata": {
        "id": "ee71PMFVXZQP"
      }
    },
    {
      "cell_type": "markdown",
      "source": [
        "Nesta questão você deverá utilizar o conjunto de dados [Churn_Modelling.csv](https://raw.githubusercontent.com/malegopc/DSBD/main/Datasets/Churn/Churn_Modelling.csv) armazenado no [github da disciplina](https://github.com/malegopc/DSBD).\n",
        "\n",
        "O conjunto de dados possui as seguintes características:\n",
        "\n",
        "Número de Instâncias: 10.000\n",
        "\n",
        "Número de Atributos: 13 atributos (incluindo o target)\n",
        "\n",
        "Informações dos Atributos:\n",
        "\n",
        "* CustomerId (identificação do cliente)\n",
        "* Surname (sobrenome)\n",
        "* CreditScore (pontuação de crédito)\n",
        "* Geography (nacionalidade)\n",
        "* Gender (sexo)\n",
        "* Age (idade)\n",
        "* Tenure (propriedades)\n",
        "* Balance (saldo)\n",
        "* NumOfProducts (número de produtos)\n",
        "* HasCrCard (cartão de crédito)\n",
        "* IsActiveMember (membro ativo)\n",
        "* EstimatedSalary (salário estimado)\n",
        "* Exited (variável de destino - target)"
      ],
      "metadata": {
        "id": "aDBl4AlaZiR7"
      }
    },
    {
      "cell_type": "markdown",
      "source": [
        "#Implementar os itens abaixo:\n",
        "\n"
      ],
      "metadata": {
        "id": "Tn-Equpnb8g3"
      }
    },
    {
      "cell_type": "markdown",
      "source": [
        "a-) Obtenha a média, desvio-padrão, valor mínimo, valor máximo, primeiro, segundo e terceiros quartis de cada variável do dataset [Churn_Modelling.csv](https://raw.githubusercontent.com/malegopc/DSBD/main/Datasets/Churn/Churn_Modelling.csv)."
      ],
      "metadata": {
        "id": "KWQYPnTKcJPo"
      }
    },
    {
      "cell_type": "code",
      "source": [],
      "metadata": {
        "id": "zC5cmh_XcNa3"
      },
      "execution_count": null,
      "outputs": []
    },
    {
      "cell_type": "markdown",
      "source": [
        "b-) Calcule o percentil 30 da variável \"Tenure\" (propriedades)."
      ],
      "metadata": {
        "id": "GSag02IxeOYe"
      }
    },
    {
      "cell_type": "code",
      "source": [],
      "metadata": {
        "id": "VjSZ7fz8fvAM"
      },
      "execution_count": null,
      "outputs": []
    },
    {
      "cell_type": "markdown",
      "source": [
        "c-) Qual das 4 variáveis apresenta maior dispersão (variabilidade): \"Tenure\" (propriedades), \"EstimatedSalary\" (salário estimado), \"Age\" (idade) ou \"NumOfProducts\" (número de produtos). Justifique a sua resposta."
      ],
      "metadata": {
        "id": "4-lJsKrYfvjx"
      }
    },
    {
      "cell_type": "code",
      "source": [],
      "metadata": {
        "id": "jPNnG6IJgkDP"
      },
      "execution_count": null,
      "outputs": []
    },
    {
      "cell_type": "markdown",
      "source": [
        "---\n",
        "\n",
        "#**Questão 6**  *(4 pontos)*\n",
        "\n",
        "---"
      ],
      "metadata": {
        "id": "-s31UNSheZsL"
      }
    },
    {
      "cell_type": "markdown",
      "source": [
        "Nesta questão você deve continuar utilizando o conjunto de dados [Churn_Modelling.csv](https://raw.githubusercontent.com/malegopc/DSBD/main/Datasets/Churn/Churn_Modelling.csv) da questão anterior.\n"
      ],
      "metadata": {
        "id": "t0Abpu-Kg1Dk"
      }
    },
    {
      "cell_type": "markdown",
      "source": [
        "#Implementar os itens abaixo:"
      ],
      "metadata": {
        "id": "IlTg-xPVhD3N"
      }
    },
    {
      "cell_type": "markdown",
      "source": [
        "a-) Mostrar os histogramas das variáveis: \"Geography\", \"Gender\" e\t\"Age\" num mesmo quadro de plotagem (usando subplots)."
      ],
      "metadata": {
        "id": "-kqEJjhygv5t"
      }
    },
    {
      "cell_type": "code",
      "source": [],
      "metadata": {
        "id": "OgSe9Ca3i_5a"
      },
      "execution_count": null,
      "outputs": []
    },
    {
      "cell_type": "markdown",
      "source": [
        "b-) Mostrar os gráficos de setores (pie chart) de cada um das variáveis: \"HasCrCard\", \"IsActiveMember\" e \"Geography\" num mesmo quadro de plotagem (usando subplots).\n"
      ],
      "metadata": {
        "id": "UjRSP4hSjHBe"
      }
    },
    {
      "cell_type": "code",
      "source": [],
      "metadata": {
        "id": "NSyNeXDfjkjm"
      },
      "execution_count": null,
      "outputs": []
    },
    {
      "cell_type": "markdown",
      "source": [
        "c-) Mostre lado a lado os boxplots da variável \"EstimatedSalary\" (salário estimado) discriminados por sexo (\"Gender\")."
      ],
      "metadata": {
        "id": "Cq5SqPh7kBx-"
      }
    },
    {
      "cell_type": "code",
      "source": [],
      "metadata": {
        "id": "_ttA9OjdlNQi"
      },
      "execution_count": null,
      "outputs": []
    },
    {
      "cell_type": "markdown",
      "source": [
        "d-) Verifique existe alguma correlação entre as variáveis \"EstimatedSalary\" (salário estimado) e \"Tenure\" (número de propriedades). Justifique a sua resposta."
      ],
      "metadata": {
        "id": "g69G4z0JmwXv"
      }
    },
    {
      "cell_type": "code",
      "source": [],
      "metadata": {
        "id": "n-3MpMYXqxc0"
      },
      "execution_count": null,
      "outputs": []
    },
    {
      "cell_type": "markdown",
      "source": [
        "---\n",
        "\n",
        "#**Questão 7** *(3 pontos)*\n",
        "\n",
        "---"
      ],
      "metadata": {
        "id": "dNr91_F4arof"
      }
    },
    {
      "cell_type": "markdown",
      "source": [
        "Em uma rede de computadores, em 30% dos dias ocorre alguma falha. Construir a distribuição de probabilidades para a variável aleatória *X = número de dias com falha na rede*, considerando o período de observação de 2 dias.  Suponha que os eventos são independentes.\n",
        " **Utilizando função Python do modelo probabilístico Binomial** obtenha a distribuição de probabilidade da variável X.                                           "
      ],
      "metadata": {
        "id": "RRNjD4Uhauzj"
      }
    },
    {
      "cell_type": "code",
      "source": [],
      "metadata": {
        "id": "-0zKUOIRbggy"
      },
      "execution_count": null,
      "outputs": []
    },
    {
      "cell_type": "markdown",
      "source": [
        "---\n",
        "\n",
        "#**Questão 8** *(2 pontos)*\n",
        "\n",
        "---"
      ],
      "metadata": {
        "id": "AtnodjT1bsK6"
      }
    },
    {
      "cell_type": "markdown",
      "source": [
        "O tempo de instalação de um software tem distribuição normal com média de 7 minutos e variância de 2 minutos. **Utilizando a função python do modelo Normal**, calcule a probabilidade de que um software leve entre 4 e 6 minutos para ser instalado.                "
      ],
      "metadata": {
        "id": "CQzPJfEKbz0Q"
      }
    },
    {
      "cell_type": "code",
      "source": [],
      "metadata": {
        "id": "dMAtGUKQb-2T"
      },
      "execution_count": null,
      "outputs": []
    }
  ]
}